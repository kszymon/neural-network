{
  "nbformat": 4,
  "nbformat_minor": 0,
  "metadata": {
    "colab": {
      "provenance": [],
      "authorship_tag": "ABX9TyOFfmqQ6MSNznd4qhao4oyx",
      "include_colab_link": true
    },
    "kernelspec": {
      "name": "python3",
      "display_name": "Python 3"
    },
    "language_info": {
      "name": "python"
    }
  },
  "cells": [
    {
      "cell_type": "markdown",
      "metadata": {
        "id": "view-in-github",
        "colab_type": "text"
      },
      "source": [
        "<a href=\"https://colab.research.google.com/github/kszymon/neural-network/blob/main/02_basics%20/05_regression_metrics.ipynb\" target=\"_parent\"><img src=\"https://colab.research.google.com/assets/colab-badge.svg\" alt=\"Open In Colab\"/></a>"
      ]
    },
    {
      "cell_type": "markdown",
      "source": [
        "### Metryki - Problem regresji:\n",
        "1. [Import bibliotek](#a0)\n",
        "2. [Metryki](#a1)\n",
        "    1. [Interpretacja graficzna](#a2)\n",
        "    2. [Mean Absolute Error - MAE](#a3)\n",
        "    3. [Mean Squared Error - MSE](#a4)\n",
        "    4. [Root Mean Squared Error - RMSE](#a5)\n",
        "    5. [Max Error](#a6)\n",
        "    6. [R2 score - współczynnik determinacji](#a7)"
      ],
      "metadata": {
        "id": "JXGOppKSPu2C"
      }
    },
    {
      "cell_type": "markdown",
      "source": [
        "### <a name='a0'></a> 1. Import bibliotek"
      ],
      "metadata": {
        "id": "5xOljRgoPwoP"
      }
    },
    {
      "cell_type": "code",
      "source": [
        "import numpy as np\n",
        "import pandas as pd\n",
        "import plotly.express as px\n",
        "import plotly.graph_objects as go\n",
        "import plotly.graph_objects as go\n",
        "import tensorflow as tf\n",
        "tf.__version__"
      ],
      "metadata": {
        "colab": {
          "base_uri": "https://localhost:8080/",
          "height": 35
        },
        "id": "so-yLCpVQJWk",
        "outputId": "35e08d87-426a-4553-93f9-108b34d74d43"
      },
      "execution_count": 62,
      "outputs": [
        {
          "output_type": "execute_result",
          "data": {
            "text/plain": [
              "'2.18.0'"
            ],
            "application/vnd.google.colaboratory.intrinsic+json": {
              "type": "string"
            }
          },
          "metadata": {},
          "execution_count": 62
        }
      ]
    },
    {
      "cell_type": "code",
      "source": [
        "y_true = 100 + 20 * np.random.randn(50)\n",
        "y_true"
      ],
      "metadata": {
        "colab": {
          "base_uri": "https://localhost:8080/"
        },
        "id": "NiWd5m5YQlPR",
        "outputId": "ecf47d1d-acaa-4e1d-ed9e-4de864130500"
      },
      "execution_count": 63,
      "outputs": [
        {
          "output_type": "execute_result",
          "data": {
            "text/plain": [
              "array([ 86.88577136, 101.21691617,  87.7004557 , 106.4141384 ,\n",
              "       105.04447397, 103.89994889, 115.45921279,  73.07322112,\n",
              "        72.70445554, 140.85915019, 120.18182478, 100.71419223,\n",
              "       114.7230065 , 115.65974201, 122.74228504,  87.25059073,\n",
              "        68.73104086,  87.03852721, 104.24559793,  67.55753311,\n",
              "        93.59668712, 108.63801198,  96.47039767, 114.21034187,\n",
              "        82.70322443,  76.15650886,  87.46694651,  88.67668858,\n",
              "       132.21102509, 135.18771298, 101.13214027, 117.4739779 ,\n",
              "        55.9983938 ,  91.45742553, 117.84423611, 128.61678172,\n",
              "        90.37637786,  90.14181797,  85.92099873, 104.44521969,\n",
              "       100.15777501, 122.03356822, 124.71098552,  79.51797003,\n",
              "        97.39510134,  87.51043675,  97.94350454,  79.37356283,\n",
              "       151.77306891,  82.23464863])"
            ]
          },
          "metadata": {},
          "execution_count": 63
        }
      ]
    },
    {
      "cell_type": "code",
      "source": [
        "y_pred = y_true + 10 * np.random.randn(50)\n",
        "y_pred"
      ],
      "metadata": {
        "colab": {
          "base_uri": "https://localhost:8080/"
        },
        "id": "dV9Irs2SQ0Nh",
        "outputId": "e5cc19dc-d00e-47c6-b260-9d7c2cb51679"
      },
      "execution_count": 64,
      "outputs": [
        {
          "output_type": "execute_result",
          "data": {
            "text/plain": [
              "array([ 99.97089822,  96.44756725,  89.23151786,  98.74861986,\n",
              "       106.9717447 , 114.14743573, 114.11476941,  63.6907353 ,\n",
              "        64.35915878, 129.14563054,  96.73276349, 100.64038923,\n",
              "       120.176497  , 117.50392286, 127.52033424,  90.55055847,\n",
              "        75.81808283, 109.1344751 ,  88.05478157,  80.76858803,\n",
              "       108.7102855 , 119.81362264,  98.70209282, 114.709725  ,\n",
              "        86.98919744,  74.13728216,  82.91783998, 107.22071136,\n",
              "       132.23436062, 128.17824369,  97.63204679, 116.4120973 ,\n",
              "        55.23996245, 109.11079737, 113.32776245, 143.39435858,\n",
              "        73.43255604, 104.13732827,  95.16148036, 101.81232108,\n",
              "        88.92520784, 108.67313808, 127.25337227,  89.99640169,\n",
              "       100.30633441,  64.42685194, 105.349771  ,  74.07841286,\n",
              "       172.58825831,  74.89643961])"
            ]
          },
          "metadata": {},
          "execution_count": 64
        }
      ]
    },
    {
      "cell_type": "code",
      "source": [
        "results = pd.DataFrame({'y_true': y_true, 'y_pred': y_pred})\n",
        "results.head()"
      ],
      "metadata": {
        "colab": {
          "base_uri": "https://localhost:8080/",
          "height": 206
        },
        "id": "Ue8pq8UiRAn8",
        "outputId": "2b84d85f-5f4d-431d-d2db-1a63616d5937"
      },
      "execution_count": 65,
      "outputs": [
        {
          "output_type": "execute_result",
          "data": {
            "text/plain": [
              "       y_true      y_pred\n",
              "0   86.885771   99.970898\n",
              "1  101.216916   96.447567\n",
              "2   87.700456   89.231518\n",
              "3  106.414138   98.748620\n",
              "4  105.044474  106.971745"
            ],
            "text/html": [
              "\n",
              "  <div id=\"df-af2e9d81-b0d0-454f-870d-473676701abd\" class=\"colab-df-container\">\n",
              "    <div>\n",
              "<style scoped>\n",
              "    .dataframe tbody tr th:only-of-type {\n",
              "        vertical-align: middle;\n",
              "    }\n",
              "\n",
              "    .dataframe tbody tr th {\n",
              "        vertical-align: top;\n",
              "    }\n",
              "\n",
              "    .dataframe thead th {\n",
              "        text-align: right;\n",
              "    }\n",
              "</style>\n",
              "<table border=\"1\" class=\"dataframe\">\n",
              "  <thead>\n",
              "    <tr style=\"text-align: right;\">\n",
              "      <th></th>\n",
              "      <th>y_true</th>\n",
              "      <th>y_pred</th>\n",
              "    </tr>\n",
              "  </thead>\n",
              "  <tbody>\n",
              "    <tr>\n",
              "      <th>0</th>\n",
              "      <td>86.885771</td>\n",
              "      <td>99.970898</td>\n",
              "    </tr>\n",
              "    <tr>\n",
              "      <th>1</th>\n",
              "      <td>101.216916</td>\n",
              "      <td>96.447567</td>\n",
              "    </tr>\n",
              "    <tr>\n",
              "      <th>2</th>\n",
              "      <td>87.700456</td>\n",
              "      <td>89.231518</td>\n",
              "    </tr>\n",
              "    <tr>\n",
              "      <th>3</th>\n",
              "      <td>106.414138</td>\n",
              "      <td>98.748620</td>\n",
              "    </tr>\n",
              "    <tr>\n",
              "      <th>4</th>\n",
              "      <td>105.044474</td>\n",
              "      <td>106.971745</td>\n",
              "    </tr>\n",
              "  </tbody>\n",
              "</table>\n",
              "</div>\n",
              "    <div class=\"colab-df-buttons\">\n",
              "\n",
              "  <div class=\"colab-df-container\">\n",
              "    <button class=\"colab-df-convert\" onclick=\"convertToInteractive('df-af2e9d81-b0d0-454f-870d-473676701abd')\"\n",
              "            title=\"Convert this dataframe to an interactive table.\"\n",
              "            style=\"display:none;\">\n",
              "\n",
              "  <svg xmlns=\"http://www.w3.org/2000/svg\" height=\"24px\" viewBox=\"0 -960 960 960\">\n",
              "    <path d=\"M120-120v-720h720v720H120Zm60-500h600v-160H180v160Zm220 220h160v-160H400v160Zm0 220h160v-160H400v160ZM180-400h160v-160H180v160Zm440 0h160v-160H620v160ZM180-180h160v-160H180v160Zm440 0h160v-160H620v160Z\"/>\n",
              "  </svg>\n",
              "    </button>\n",
              "\n",
              "  <style>\n",
              "    .colab-df-container {\n",
              "      display:flex;\n",
              "      gap: 12px;\n",
              "    }\n",
              "\n",
              "    .colab-df-convert {\n",
              "      background-color: #E8F0FE;\n",
              "      border: none;\n",
              "      border-radius: 50%;\n",
              "      cursor: pointer;\n",
              "      display: none;\n",
              "      fill: #1967D2;\n",
              "      height: 32px;\n",
              "      padding: 0 0 0 0;\n",
              "      width: 32px;\n",
              "    }\n",
              "\n",
              "    .colab-df-convert:hover {\n",
              "      background-color: #E2EBFA;\n",
              "      box-shadow: 0px 1px 2px rgba(60, 64, 67, 0.3), 0px 1px 3px 1px rgba(60, 64, 67, 0.15);\n",
              "      fill: #174EA6;\n",
              "    }\n",
              "\n",
              "    .colab-df-buttons div {\n",
              "      margin-bottom: 4px;\n",
              "    }\n",
              "\n",
              "    [theme=dark] .colab-df-convert {\n",
              "      background-color: #3B4455;\n",
              "      fill: #D2E3FC;\n",
              "    }\n",
              "\n",
              "    [theme=dark] .colab-df-convert:hover {\n",
              "      background-color: #434B5C;\n",
              "      box-shadow: 0px 1px 3px 1px rgba(0, 0, 0, 0.15);\n",
              "      filter: drop-shadow(0px 1px 2px rgba(0, 0, 0, 0.3));\n",
              "      fill: #FFFFFF;\n",
              "    }\n",
              "  </style>\n",
              "\n",
              "    <script>\n",
              "      const buttonEl =\n",
              "        document.querySelector('#df-af2e9d81-b0d0-454f-870d-473676701abd button.colab-df-convert');\n",
              "      buttonEl.style.display =\n",
              "        google.colab.kernel.accessAllowed ? 'block' : 'none';\n",
              "\n",
              "      async function convertToInteractive(key) {\n",
              "        const element = document.querySelector('#df-af2e9d81-b0d0-454f-870d-473676701abd');\n",
              "        const dataTable =\n",
              "          await google.colab.kernel.invokeFunction('convertToInteractive',\n",
              "                                                    [key], {});\n",
              "        if (!dataTable) return;\n",
              "\n",
              "        const docLinkHtml = 'Like what you see? Visit the ' +\n",
              "          '<a target=\"_blank\" href=https://colab.research.google.com/notebooks/data_table.ipynb>data table notebook</a>'\n",
              "          + ' to learn more about interactive tables.';\n",
              "        element.innerHTML = '';\n",
              "        dataTable['output_type'] = 'display_data';\n",
              "        await google.colab.output.renderOutput(dataTable, element);\n",
              "        const docLink = document.createElement('div');\n",
              "        docLink.innerHTML = docLinkHtml;\n",
              "        element.appendChild(docLink);\n",
              "      }\n",
              "    </script>\n",
              "  </div>\n",
              "\n",
              "\n",
              "<div id=\"df-124d573f-602a-47c9-819b-5c1ea5d0d438\">\n",
              "  <button class=\"colab-df-quickchart\" onclick=\"quickchart('df-124d573f-602a-47c9-819b-5c1ea5d0d438')\"\n",
              "            title=\"Suggest charts\"\n",
              "            style=\"display:none;\">\n",
              "\n",
              "<svg xmlns=\"http://www.w3.org/2000/svg\" height=\"24px\"viewBox=\"0 0 24 24\"\n",
              "     width=\"24px\">\n",
              "    <g>\n",
              "        <path d=\"M19 3H5c-1.1 0-2 .9-2 2v14c0 1.1.9 2 2 2h14c1.1 0 2-.9 2-2V5c0-1.1-.9-2-2-2zM9 17H7v-7h2v7zm4 0h-2V7h2v10zm4 0h-2v-4h2v4z\"/>\n",
              "    </g>\n",
              "</svg>\n",
              "  </button>\n",
              "\n",
              "<style>\n",
              "  .colab-df-quickchart {\n",
              "      --bg-color: #E8F0FE;\n",
              "      --fill-color: #1967D2;\n",
              "      --hover-bg-color: #E2EBFA;\n",
              "      --hover-fill-color: #174EA6;\n",
              "      --disabled-fill-color: #AAA;\n",
              "      --disabled-bg-color: #DDD;\n",
              "  }\n",
              "\n",
              "  [theme=dark] .colab-df-quickchart {\n",
              "      --bg-color: #3B4455;\n",
              "      --fill-color: #D2E3FC;\n",
              "      --hover-bg-color: #434B5C;\n",
              "      --hover-fill-color: #FFFFFF;\n",
              "      --disabled-bg-color: #3B4455;\n",
              "      --disabled-fill-color: #666;\n",
              "  }\n",
              "\n",
              "  .colab-df-quickchart {\n",
              "    background-color: var(--bg-color);\n",
              "    border: none;\n",
              "    border-radius: 50%;\n",
              "    cursor: pointer;\n",
              "    display: none;\n",
              "    fill: var(--fill-color);\n",
              "    height: 32px;\n",
              "    padding: 0;\n",
              "    width: 32px;\n",
              "  }\n",
              "\n",
              "  .colab-df-quickchart:hover {\n",
              "    background-color: var(--hover-bg-color);\n",
              "    box-shadow: 0 1px 2px rgba(60, 64, 67, 0.3), 0 1px 3px 1px rgba(60, 64, 67, 0.15);\n",
              "    fill: var(--button-hover-fill-color);\n",
              "  }\n",
              "\n",
              "  .colab-df-quickchart-complete:disabled,\n",
              "  .colab-df-quickchart-complete:disabled:hover {\n",
              "    background-color: var(--disabled-bg-color);\n",
              "    fill: var(--disabled-fill-color);\n",
              "    box-shadow: none;\n",
              "  }\n",
              "\n",
              "  .colab-df-spinner {\n",
              "    border: 2px solid var(--fill-color);\n",
              "    border-color: transparent;\n",
              "    border-bottom-color: var(--fill-color);\n",
              "    animation:\n",
              "      spin 1s steps(1) infinite;\n",
              "  }\n",
              "\n",
              "  @keyframes spin {\n",
              "    0% {\n",
              "      border-color: transparent;\n",
              "      border-bottom-color: var(--fill-color);\n",
              "      border-left-color: var(--fill-color);\n",
              "    }\n",
              "    20% {\n",
              "      border-color: transparent;\n",
              "      border-left-color: var(--fill-color);\n",
              "      border-top-color: var(--fill-color);\n",
              "    }\n",
              "    30% {\n",
              "      border-color: transparent;\n",
              "      border-left-color: var(--fill-color);\n",
              "      border-top-color: var(--fill-color);\n",
              "      border-right-color: var(--fill-color);\n",
              "    }\n",
              "    40% {\n",
              "      border-color: transparent;\n",
              "      border-right-color: var(--fill-color);\n",
              "      border-top-color: var(--fill-color);\n",
              "    }\n",
              "    60% {\n",
              "      border-color: transparent;\n",
              "      border-right-color: var(--fill-color);\n",
              "    }\n",
              "    80% {\n",
              "      border-color: transparent;\n",
              "      border-right-color: var(--fill-color);\n",
              "      border-bottom-color: var(--fill-color);\n",
              "    }\n",
              "    90% {\n",
              "      border-color: transparent;\n",
              "      border-bottom-color: var(--fill-color);\n",
              "    }\n",
              "  }\n",
              "</style>\n",
              "\n",
              "  <script>\n",
              "    async function quickchart(key) {\n",
              "      const quickchartButtonEl =\n",
              "        document.querySelector('#' + key + ' button');\n",
              "      quickchartButtonEl.disabled = true;  // To prevent multiple clicks.\n",
              "      quickchartButtonEl.classList.add('colab-df-spinner');\n",
              "      try {\n",
              "        const charts = await google.colab.kernel.invokeFunction(\n",
              "            'suggestCharts', [key], {});\n",
              "      } catch (error) {\n",
              "        console.error('Error during call to suggestCharts:', error);\n",
              "      }\n",
              "      quickchartButtonEl.classList.remove('colab-df-spinner');\n",
              "      quickchartButtonEl.classList.add('colab-df-quickchart-complete');\n",
              "    }\n",
              "    (() => {\n",
              "      let quickchartButtonEl =\n",
              "        document.querySelector('#df-124d573f-602a-47c9-819b-5c1ea5d0d438 button');\n",
              "      quickchartButtonEl.style.display =\n",
              "        google.colab.kernel.accessAllowed ? 'block' : 'none';\n",
              "    })();\n",
              "  </script>\n",
              "</div>\n",
              "\n",
              "    </div>\n",
              "  </div>\n"
            ],
            "application/vnd.google.colaboratory.intrinsic+json": {
              "type": "dataframe",
              "variable_name": "results",
              "summary": "{\n  \"name\": \"results\",\n  \"rows\": 50,\n  \"fields\": [\n    {\n      \"column\": \"y_true\",\n      \"properties\": {\n        \"dtype\": \"number\",\n        \"std\": 20.341193291424762,\n        \"min\": 55.998393799819056,\n        \"max\": 151.77306890615657,\n        \"num_unique_values\": 50,\n        \"samples\": [\n          115.65974200613586,\n          104.44521968955408,\n          101.1321402689807\n        ],\n        \"semantic_type\": \"\",\n        \"description\": \"\"\n      }\n    },\n    {\n      \"column\": \"y_pred\",\n      \"properties\": {\n        \"dtype\": \"number\",\n        \"std\": 22.356313261869083,\n        \"min\": 55.23996244641438,\n        \"max\": 172.5882583073526,\n        \"num_unique_values\": 50,\n        \"samples\": [\n          117.50392286053255,\n          101.81232108439934,\n          97.63204679222142\n        ],\n        \"semantic_type\": \"\",\n        \"description\": \"\"\n      }\n    }\n  ]\n}"
            }
          },
          "metadata": {},
          "execution_count": 65
        }
      ]
    },
    {
      "cell_type": "code",
      "source": [
        "results['error'] = results['y_true']- results['y_pred']\n",
        "results.head()"
      ],
      "metadata": {
        "colab": {
          "base_uri": "https://localhost:8080/",
          "height": 206
        },
        "id": "_Qy1ovF2RUmq",
        "outputId": "3f6f530f-a3f8-4232-b476-aba70ca067d1"
      },
      "execution_count": 66,
      "outputs": [
        {
          "output_type": "execute_result",
          "data": {
            "text/plain": [
              "       y_true      y_pred      error\n",
              "0   86.885771   99.970898 -13.085127\n",
              "1  101.216916   96.447567   4.769349\n",
              "2   87.700456   89.231518  -1.531062\n",
              "3  106.414138   98.748620   7.665519\n",
              "4  105.044474  106.971745  -1.927271"
            ],
            "text/html": [
              "\n",
              "  <div id=\"df-a4b08d57-b7d3-480e-a9da-b17913212a2f\" class=\"colab-df-container\">\n",
              "    <div>\n",
              "<style scoped>\n",
              "    .dataframe tbody tr th:only-of-type {\n",
              "        vertical-align: middle;\n",
              "    }\n",
              "\n",
              "    .dataframe tbody tr th {\n",
              "        vertical-align: top;\n",
              "    }\n",
              "\n",
              "    .dataframe thead th {\n",
              "        text-align: right;\n",
              "    }\n",
              "</style>\n",
              "<table border=\"1\" class=\"dataframe\">\n",
              "  <thead>\n",
              "    <tr style=\"text-align: right;\">\n",
              "      <th></th>\n",
              "      <th>y_true</th>\n",
              "      <th>y_pred</th>\n",
              "      <th>error</th>\n",
              "    </tr>\n",
              "  </thead>\n",
              "  <tbody>\n",
              "    <tr>\n",
              "      <th>0</th>\n",
              "      <td>86.885771</td>\n",
              "      <td>99.970898</td>\n",
              "      <td>-13.085127</td>\n",
              "    </tr>\n",
              "    <tr>\n",
              "      <th>1</th>\n",
              "      <td>101.216916</td>\n",
              "      <td>96.447567</td>\n",
              "      <td>4.769349</td>\n",
              "    </tr>\n",
              "    <tr>\n",
              "      <th>2</th>\n",
              "      <td>87.700456</td>\n",
              "      <td>89.231518</td>\n",
              "      <td>-1.531062</td>\n",
              "    </tr>\n",
              "    <tr>\n",
              "      <th>3</th>\n",
              "      <td>106.414138</td>\n",
              "      <td>98.748620</td>\n",
              "      <td>7.665519</td>\n",
              "    </tr>\n",
              "    <tr>\n",
              "      <th>4</th>\n",
              "      <td>105.044474</td>\n",
              "      <td>106.971745</td>\n",
              "      <td>-1.927271</td>\n",
              "    </tr>\n",
              "  </tbody>\n",
              "</table>\n",
              "</div>\n",
              "    <div class=\"colab-df-buttons\">\n",
              "\n",
              "  <div class=\"colab-df-container\">\n",
              "    <button class=\"colab-df-convert\" onclick=\"convertToInteractive('df-a4b08d57-b7d3-480e-a9da-b17913212a2f')\"\n",
              "            title=\"Convert this dataframe to an interactive table.\"\n",
              "            style=\"display:none;\">\n",
              "\n",
              "  <svg xmlns=\"http://www.w3.org/2000/svg\" height=\"24px\" viewBox=\"0 -960 960 960\">\n",
              "    <path d=\"M120-120v-720h720v720H120Zm60-500h600v-160H180v160Zm220 220h160v-160H400v160Zm0 220h160v-160H400v160ZM180-400h160v-160H180v160Zm440 0h160v-160H620v160ZM180-180h160v-160H180v160Zm440 0h160v-160H620v160Z\"/>\n",
              "  </svg>\n",
              "    </button>\n",
              "\n",
              "  <style>\n",
              "    .colab-df-container {\n",
              "      display:flex;\n",
              "      gap: 12px;\n",
              "    }\n",
              "\n",
              "    .colab-df-convert {\n",
              "      background-color: #E8F0FE;\n",
              "      border: none;\n",
              "      border-radius: 50%;\n",
              "      cursor: pointer;\n",
              "      display: none;\n",
              "      fill: #1967D2;\n",
              "      height: 32px;\n",
              "      padding: 0 0 0 0;\n",
              "      width: 32px;\n",
              "    }\n",
              "\n",
              "    .colab-df-convert:hover {\n",
              "      background-color: #E2EBFA;\n",
              "      box-shadow: 0px 1px 2px rgba(60, 64, 67, 0.3), 0px 1px 3px 1px rgba(60, 64, 67, 0.15);\n",
              "      fill: #174EA6;\n",
              "    }\n",
              "\n",
              "    .colab-df-buttons div {\n",
              "      margin-bottom: 4px;\n",
              "    }\n",
              "\n",
              "    [theme=dark] .colab-df-convert {\n",
              "      background-color: #3B4455;\n",
              "      fill: #D2E3FC;\n",
              "    }\n",
              "\n",
              "    [theme=dark] .colab-df-convert:hover {\n",
              "      background-color: #434B5C;\n",
              "      box-shadow: 0px 1px 3px 1px rgba(0, 0, 0, 0.15);\n",
              "      filter: drop-shadow(0px 1px 2px rgba(0, 0, 0, 0.3));\n",
              "      fill: #FFFFFF;\n",
              "    }\n",
              "  </style>\n",
              "\n",
              "    <script>\n",
              "      const buttonEl =\n",
              "        document.querySelector('#df-a4b08d57-b7d3-480e-a9da-b17913212a2f button.colab-df-convert');\n",
              "      buttonEl.style.display =\n",
              "        google.colab.kernel.accessAllowed ? 'block' : 'none';\n",
              "\n",
              "      async function convertToInteractive(key) {\n",
              "        const element = document.querySelector('#df-a4b08d57-b7d3-480e-a9da-b17913212a2f');\n",
              "        const dataTable =\n",
              "          await google.colab.kernel.invokeFunction('convertToInteractive',\n",
              "                                                    [key], {});\n",
              "        if (!dataTable) return;\n",
              "\n",
              "        const docLinkHtml = 'Like what you see? Visit the ' +\n",
              "          '<a target=\"_blank\" href=https://colab.research.google.com/notebooks/data_table.ipynb>data table notebook</a>'\n",
              "          + ' to learn more about interactive tables.';\n",
              "        element.innerHTML = '';\n",
              "        dataTable['output_type'] = 'display_data';\n",
              "        await google.colab.output.renderOutput(dataTable, element);\n",
              "        const docLink = document.createElement('div');\n",
              "        docLink.innerHTML = docLinkHtml;\n",
              "        element.appendChild(docLink);\n",
              "      }\n",
              "    </script>\n",
              "  </div>\n",
              "\n",
              "\n",
              "<div id=\"df-0ccfac00-fd7e-4299-a51f-8292ad3e09a0\">\n",
              "  <button class=\"colab-df-quickchart\" onclick=\"quickchart('df-0ccfac00-fd7e-4299-a51f-8292ad3e09a0')\"\n",
              "            title=\"Suggest charts\"\n",
              "            style=\"display:none;\">\n",
              "\n",
              "<svg xmlns=\"http://www.w3.org/2000/svg\" height=\"24px\"viewBox=\"0 0 24 24\"\n",
              "     width=\"24px\">\n",
              "    <g>\n",
              "        <path d=\"M19 3H5c-1.1 0-2 .9-2 2v14c0 1.1.9 2 2 2h14c1.1 0 2-.9 2-2V5c0-1.1-.9-2-2-2zM9 17H7v-7h2v7zm4 0h-2V7h2v10zm4 0h-2v-4h2v4z\"/>\n",
              "    </g>\n",
              "</svg>\n",
              "  </button>\n",
              "\n",
              "<style>\n",
              "  .colab-df-quickchart {\n",
              "      --bg-color: #E8F0FE;\n",
              "      --fill-color: #1967D2;\n",
              "      --hover-bg-color: #E2EBFA;\n",
              "      --hover-fill-color: #174EA6;\n",
              "      --disabled-fill-color: #AAA;\n",
              "      --disabled-bg-color: #DDD;\n",
              "  }\n",
              "\n",
              "  [theme=dark] .colab-df-quickchart {\n",
              "      --bg-color: #3B4455;\n",
              "      --fill-color: #D2E3FC;\n",
              "      --hover-bg-color: #434B5C;\n",
              "      --hover-fill-color: #FFFFFF;\n",
              "      --disabled-bg-color: #3B4455;\n",
              "      --disabled-fill-color: #666;\n",
              "  }\n",
              "\n",
              "  .colab-df-quickchart {\n",
              "    background-color: var(--bg-color);\n",
              "    border: none;\n",
              "    border-radius: 50%;\n",
              "    cursor: pointer;\n",
              "    display: none;\n",
              "    fill: var(--fill-color);\n",
              "    height: 32px;\n",
              "    padding: 0;\n",
              "    width: 32px;\n",
              "  }\n",
              "\n",
              "  .colab-df-quickchart:hover {\n",
              "    background-color: var(--hover-bg-color);\n",
              "    box-shadow: 0 1px 2px rgba(60, 64, 67, 0.3), 0 1px 3px 1px rgba(60, 64, 67, 0.15);\n",
              "    fill: var(--button-hover-fill-color);\n",
              "  }\n",
              "\n",
              "  .colab-df-quickchart-complete:disabled,\n",
              "  .colab-df-quickchart-complete:disabled:hover {\n",
              "    background-color: var(--disabled-bg-color);\n",
              "    fill: var(--disabled-fill-color);\n",
              "    box-shadow: none;\n",
              "  }\n",
              "\n",
              "  .colab-df-spinner {\n",
              "    border: 2px solid var(--fill-color);\n",
              "    border-color: transparent;\n",
              "    border-bottom-color: var(--fill-color);\n",
              "    animation:\n",
              "      spin 1s steps(1) infinite;\n",
              "  }\n",
              "\n",
              "  @keyframes spin {\n",
              "    0% {\n",
              "      border-color: transparent;\n",
              "      border-bottom-color: var(--fill-color);\n",
              "      border-left-color: var(--fill-color);\n",
              "    }\n",
              "    20% {\n",
              "      border-color: transparent;\n",
              "      border-left-color: var(--fill-color);\n",
              "      border-top-color: var(--fill-color);\n",
              "    }\n",
              "    30% {\n",
              "      border-color: transparent;\n",
              "      border-left-color: var(--fill-color);\n",
              "      border-top-color: var(--fill-color);\n",
              "      border-right-color: var(--fill-color);\n",
              "    }\n",
              "    40% {\n",
              "      border-color: transparent;\n",
              "      border-right-color: var(--fill-color);\n",
              "      border-top-color: var(--fill-color);\n",
              "    }\n",
              "    60% {\n",
              "      border-color: transparent;\n",
              "      border-right-color: var(--fill-color);\n",
              "    }\n",
              "    80% {\n",
              "      border-color: transparent;\n",
              "      border-right-color: var(--fill-color);\n",
              "      border-bottom-color: var(--fill-color);\n",
              "    }\n",
              "    90% {\n",
              "      border-color: transparent;\n",
              "      border-bottom-color: var(--fill-color);\n",
              "    }\n",
              "  }\n",
              "</style>\n",
              "\n",
              "  <script>\n",
              "    async function quickchart(key) {\n",
              "      const quickchartButtonEl =\n",
              "        document.querySelector('#' + key + ' button');\n",
              "      quickchartButtonEl.disabled = true;  // To prevent multiple clicks.\n",
              "      quickchartButtonEl.classList.add('colab-df-spinner');\n",
              "      try {\n",
              "        const charts = await google.colab.kernel.invokeFunction(\n",
              "            'suggestCharts', [key], {});\n",
              "      } catch (error) {\n",
              "        console.error('Error during call to suggestCharts:', error);\n",
              "      }\n",
              "      quickchartButtonEl.classList.remove('colab-df-spinner');\n",
              "      quickchartButtonEl.classList.add('colab-df-quickchart-complete');\n",
              "    }\n",
              "    (() => {\n",
              "      let quickchartButtonEl =\n",
              "        document.querySelector('#df-0ccfac00-fd7e-4299-a51f-8292ad3e09a0 button');\n",
              "      quickchartButtonEl.style.display =\n",
              "        google.colab.kernel.accessAllowed ? 'block' : 'none';\n",
              "    })();\n",
              "  </script>\n",
              "</div>\n",
              "\n",
              "    </div>\n",
              "  </div>\n"
            ],
            "application/vnd.google.colaboratory.intrinsic+json": {
              "type": "dataframe",
              "variable_name": "results",
              "summary": "{\n  \"name\": \"results\",\n  \"rows\": 50,\n  \"fields\": [\n    {\n      \"column\": \"y_true\",\n      \"properties\": {\n        \"dtype\": \"number\",\n        \"std\": 20.341193291424762,\n        \"min\": 55.998393799819056,\n        \"max\": 151.77306890615657,\n        \"num_unique_values\": 50,\n        \"samples\": [\n          115.65974200613586,\n          104.44521968955408,\n          101.1321402689807\n        ],\n        \"semantic_type\": \"\",\n        \"description\": \"\"\n      }\n    },\n    {\n      \"column\": \"y_pred\",\n      \"properties\": {\n        \"dtype\": \"number\",\n        \"std\": 22.356313261869083,\n        \"min\": 55.23996244641438,\n        \"max\": 172.5882583073526,\n        \"num_unique_values\": 50,\n        \"samples\": [\n          117.50392286053255,\n          101.81232108439934,\n          97.63204679222142\n        ],\n        \"semantic_type\": \"\",\n        \"description\": \"\"\n      }\n    },\n    {\n      \"column\": \"error\",\n      \"properties\": {\n        \"dtype\": \"number\",\n        \"std\": 10.756046082793265,\n        \"min\": -22.0959478892525,\n        \"max\": 23.449061285938953,\n        \"num_unique_values\": 50,\n        \"samples\": [\n          -1.844180854396697,\n          2.632898605154736,\n          3.5000934767592895\n        ],\n        \"semantic_type\": \"\",\n        \"description\": \"\"\n      }\n    }\n  ]\n}"
            }
          },
          "metadata": {},
          "execution_count": 66
        }
      ]
    },
    {
      "cell_type": "markdown",
      "source": [
        "### <a name='a1'></a> 2. Metryki\n",
        "### <a name='a2'></a> 2.1 Interpretacja graficzna"
      ],
      "metadata": {
        "id": "lluSy6q1Pwvt"
      }
    },
    {
      "cell_type": "code",
      "source": [
        "def plot_regression_results(y_true, y_pred):\n",
        "    results = pd.DataFrame({'y_true': y_true, 'y_pred': y_pred})\n",
        "    min = results[['y_true', 'y_pred']].min().min()\n",
        "    max = results[['y_true', 'y_pred']].max().max()\n",
        "\n",
        "    fig = go.Figure(data=[go.Scatter(x=results['y_true'], y=results['y_pred'], mode='markers'),\n",
        "                    go.Scatter(x=[min, max], y=[min, max])],\n",
        "                    layout=go.Layout(showlegend=False, width=800,\n",
        "                                     xaxis_title='y_true',\n",
        "                                     yaxis_title='y_pred',\n",
        "                                     title='Regression results'))\n",
        "    fig.show()\n",
        "plot_regression_results(y_true, y_pred)"
      ],
      "metadata": {
        "colab": {
          "base_uri": "https://localhost:8080/",
          "height": 542
        },
        "id": "B4dqjHsTTXy6",
        "outputId": "402d05c5-e50b-4d52-ccb7-253613d2866e"
      },
      "execution_count": 67,
      "outputs": [
        {
          "output_type": "display_data",
          "data": {
            "text/html": [
              "<html>\n",
              "<head><meta charset=\"utf-8\" /></head>\n",
              "<body>\n",
              "    <div>            <script src=\"https://cdnjs.cloudflare.com/ajax/libs/mathjax/2.7.5/MathJax.js?config=TeX-AMS-MML_SVG\"></script><script type=\"text/javascript\">if (window.MathJax && window.MathJax.Hub && window.MathJax.Hub.Config) {window.MathJax.Hub.Config({SVG: {font: \"STIX-Web\"}});}</script>                <script type=\"text/javascript\">window.PlotlyConfig = {MathJaxConfig: 'local'};</script>\n",
              "        <script charset=\"utf-8\" src=\"https://cdn.plot.ly/plotly-2.35.2.min.js\"></script>                <div id=\"fa60c602-a679-4120-854f-76214437d4b8\" class=\"plotly-graph-div\" style=\"height:525px; width:800px;\"></div>            <script type=\"text/javascript\">                                    window.PLOTLYENV=window.PLOTLYENV || {};                                    if (document.getElementById(\"fa60c602-a679-4120-854f-76214437d4b8\")) {                    Plotly.newPlot(                        \"fa60c602-a679-4120-854f-76214437d4b8\",                        [{\"mode\":\"markers\",\"x\":[86.88577136105178,101.21691617122713,87.70045569585452,106.41413839912101,105.04447396946775,103.89994888893312,115.45921279024644,73.07322111601091,72.70445553762505,140.85915018893164,120.18182477702162,100.7141922337452,114.72300650171351,115.65974200613586,122.74228503782618,87.2505907289069,68.73104085870449,87.03852721254144,104.24559792950397,67.5575331092758,93.59668712367765,108.63801197691791,96.47039766870344,114.21034187339205,82.70322443277601,76.15650886190562,87.46694650741065,88.67668858216362,132.21102509331752,135.18771297521863,101.1321402689807,117.4739778992927,55.998393799819056,91.45742553429088,117.84423610557602,128.61678172145756,90.37637785513243,90.14181796615732,85.92099872686273,104.44521968955408,100.15777500780105,122.03356821834073,124.71098551771503,79.5179700314178,97.39510134319137,87.51043675103864,97.9435045372089,79.37356282919296,151.77306890615657,82.23464862888537],\"y\":[99.97089822428134,96.44756725137081,89.23151785726371,98.74861986378771,106.97174469799303,114.14743573463342,114.11476941301981,63.69073529952773,64.35915877585947,129.1456305445091,96.73276349108266,100.6403892284324,120.176496996678,117.50392286053255,127.5203342380621,90.55055846671982,75.81808282952233,109.13447510179394,88.05478156931827,80.7685880335173,108.71028550308847,119.81362264343163,98.70209282347656,114.70972500088355,86.98919744251538,74.13728215718236,82.91783998308458,107.22071135598378,132.23436061895134,128.17824368960848,97.63204679222142,116.41209729775888,55.23996244641438,109.11079736955924,113.32776244896667,143.39435858263576,73.43255603508769,104.13732827186152,95.16148035600543,101.81232108439934,88.92520784088136,108.67313808032706,127.25337226650761,89.9964016927314,100.3063344114821,64.42685194207611,105.34977099632358,74.07841285710208,172.5882583073526,74.89643961128387],\"type\":\"scatter\"},{\"x\":[55.23996244641438,172.5882583073526],\"y\":[55.23996244641438,172.5882583073526],\"type\":\"scatter\"}],                        {\"showlegend\":false,\"title\":{\"text\":\"Regression results\"},\"width\":800,\"xaxis\":{\"title\":{\"text\":\"y_true\"}},\"yaxis\":{\"title\":{\"text\":\"y_pred\"}},\"template\":{\"data\":{\"histogram2dcontour\":[{\"type\":\"histogram2dcontour\",\"colorbar\":{\"outlinewidth\":0,\"ticks\":\"\"},\"colorscale\":[[0.0,\"#0d0887\"],[0.1111111111111111,\"#46039f\"],[0.2222222222222222,\"#7201a8\"],[0.3333333333333333,\"#9c179e\"],[0.4444444444444444,\"#bd3786\"],[0.5555555555555556,\"#d8576b\"],[0.6666666666666666,\"#ed7953\"],[0.7777777777777778,\"#fb9f3a\"],[0.8888888888888888,\"#fdca26\"],[1.0,\"#f0f921\"]]}],\"choropleth\":[{\"type\":\"choropleth\",\"colorbar\":{\"outlinewidth\":0,\"ticks\":\"\"}}],\"histogram2d\":[{\"type\":\"histogram2d\",\"colorbar\":{\"outlinewidth\":0,\"ticks\":\"\"},\"colorscale\":[[0.0,\"#0d0887\"],[0.1111111111111111,\"#46039f\"],[0.2222222222222222,\"#7201a8\"],[0.3333333333333333,\"#9c179e\"],[0.4444444444444444,\"#bd3786\"],[0.5555555555555556,\"#d8576b\"],[0.6666666666666666,\"#ed7953\"],[0.7777777777777778,\"#fb9f3a\"],[0.8888888888888888,\"#fdca26\"],[1.0,\"#f0f921\"]]}],\"heatmap\":[{\"type\":\"heatmap\",\"colorbar\":{\"outlinewidth\":0,\"ticks\":\"\"},\"colorscale\":[[0.0,\"#0d0887\"],[0.1111111111111111,\"#46039f\"],[0.2222222222222222,\"#7201a8\"],[0.3333333333333333,\"#9c179e\"],[0.4444444444444444,\"#bd3786\"],[0.5555555555555556,\"#d8576b\"],[0.6666666666666666,\"#ed7953\"],[0.7777777777777778,\"#fb9f3a\"],[0.8888888888888888,\"#fdca26\"],[1.0,\"#f0f921\"]]}],\"heatmapgl\":[{\"type\":\"heatmapgl\",\"colorbar\":{\"outlinewidth\":0,\"ticks\":\"\"},\"colorscale\":[[0.0,\"#0d0887\"],[0.1111111111111111,\"#46039f\"],[0.2222222222222222,\"#7201a8\"],[0.3333333333333333,\"#9c179e\"],[0.4444444444444444,\"#bd3786\"],[0.5555555555555556,\"#d8576b\"],[0.6666666666666666,\"#ed7953\"],[0.7777777777777778,\"#fb9f3a\"],[0.8888888888888888,\"#fdca26\"],[1.0,\"#f0f921\"]]}],\"contourcarpet\":[{\"type\":\"contourcarpet\",\"colorbar\":{\"outlinewidth\":0,\"ticks\":\"\"}}],\"contour\":[{\"type\":\"contour\",\"colorbar\":{\"outlinewidth\":0,\"ticks\":\"\"},\"colorscale\":[[0.0,\"#0d0887\"],[0.1111111111111111,\"#46039f\"],[0.2222222222222222,\"#7201a8\"],[0.3333333333333333,\"#9c179e\"],[0.4444444444444444,\"#bd3786\"],[0.5555555555555556,\"#d8576b\"],[0.6666666666666666,\"#ed7953\"],[0.7777777777777778,\"#fb9f3a\"],[0.8888888888888888,\"#fdca26\"],[1.0,\"#f0f921\"]]}],\"surface\":[{\"type\":\"surface\",\"colorbar\":{\"outlinewidth\":0,\"ticks\":\"\"},\"colorscale\":[[0.0,\"#0d0887\"],[0.1111111111111111,\"#46039f\"],[0.2222222222222222,\"#7201a8\"],[0.3333333333333333,\"#9c179e\"],[0.4444444444444444,\"#bd3786\"],[0.5555555555555556,\"#d8576b\"],[0.6666666666666666,\"#ed7953\"],[0.7777777777777778,\"#fb9f3a\"],[0.8888888888888888,\"#fdca26\"],[1.0,\"#f0f921\"]]}],\"mesh3d\":[{\"type\":\"mesh3d\",\"colorbar\":{\"outlinewidth\":0,\"ticks\":\"\"}}],\"scatter\":[{\"fillpattern\":{\"fillmode\":\"overlay\",\"size\":10,\"solidity\":0.2},\"type\":\"scatter\"}],\"parcoords\":[{\"type\":\"parcoords\",\"line\":{\"colorbar\":{\"outlinewidth\":0,\"ticks\":\"\"}}}],\"scatterpolargl\":[{\"type\":\"scatterpolargl\",\"marker\":{\"colorbar\":{\"outlinewidth\":0,\"ticks\":\"\"}}}],\"bar\":[{\"error_x\":{\"color\":\"#2a3f5f\"},\"error_y\":{\"color\":\"#2a3f5f\"},\"marker\":{\"line\":{\"color\":\"#E5ECF6\",\"width\":0.5},\"pattern\":{\"fillmode\":\"overlay\",\"size\":10,\"solidity\":0.2}},\"type\":\"bar\"}],\"scattergeo\":[{\"type\":\"scattergeo\",\"marker\":{\"colorbar\":{\"outlinewidth\":0,\"ticks\":\"\"}}}],\"scatterpolar\":[{\"type\":\"scatterpolar\",\"marker\":{\"colorbar\":{\"outlinewidth\":0,\"ticks\":\"\"}}}],\"histogram\":[{\"marker\":{\"pattern\":{\"fillmode\":\"overlay\",\"size\":10,\"solidity\":0.2}},\"type\":\"histogram\"}],\"scattergl\":[{\"type\":\"scattergl\",\"marker\":{\"colorbar\":{\"outlinewidth\":0,\"ticks\":\"\"}}}],\"scatter3d\":[{\"type\":\"scatter3d\",\"line\":{\"colorbar\":{\"outlinewidth\":0,\"ticks\":\"\"}},\"marker\":{\"colorbar\":{\"outlinewidth\":0,\"ticks\":\"\"}}}],\"scattermapbox\":[{\"type\":\"scattermapbox\",\"marker\":{\"colorbar\":{\"outlinewidth\":0,\"ticks\":\"\"}}}],\"scatterternary\":[{\"type\":\"scatterternary\",\"marker\":{\"colorbar\":{\"outlinewidth\":0,\"ticks\":\"\"}}}],\"scattercarpet\":[{\"type\":\"scattercarpet\",\"marker\":{\"colorbar\":{\"outlinewidth\":0,\"ticks\":\"\"}}}],\"carpet\":[{\"aaxis\":{\"endlinecolor\":\"#2a3f5f\",\"gridcolor\":\"white\",\"linecolor\":\"white\",\"minorgridcolor\":\"white\",\"startlinecolor\":\"#2a3f5f\"},\"baxis\":{\"endlinecolor\":\"#2a3f5f\",\"gridcolor\":\"white\",\"linecolor\":\"white\",\"minorgridcolor\":\"white\",\"startlinecolor\":\"#2a3f5f\"},\"type\":\"carpet\"}],\"table\":[{\"cells\":{\"fill\":{\"color\":\"#EBF0F8\"},\"line\":{\"color\":\"white\"}},\"header\":{\"fill\":{\"color\":\"#C8D4E3\"},\"line\":{\"color\":\"white\"}},\"type\":\"table\"}],\"barpolar\":[{\"marker\":{\"line\":{\"color\":\"#E5ECF6\",\"width\":0.5},\"pattern\":{\"fillmode\":\"overlay\",\"size\":10,\"solidity\":0.2}},\"type\":\"barpolar\"}],\"pie\":[{\"automargin\":true,\"type\":\"pie\"}]},\"layout\":{\"autotypenumbers\":\"strict\",\"colorway\":[\"#636efa\",\"#EF553B\",\"#00cc96\",\"#ab63fa\",\"#FFA15A\",\"#19d3f3\",\"#FF6692\",\"#B6E880\",\"#FF97FF\",\"#FECB52\"],\"font\":{\"color\":\"#2a3f5f\"},\"hovermode\":\"closest\",\"hoverlabel\":{\"align\":\"left\"},\"paper_bgcolor\":\"white\",\"plot_bgcolor\":\"#E5ECF6\",\"polar\":{\"bgcolor\":\"#E5ECF6\",\"angularaxis\":{\"gridcolor\":\"white\",\"linecolor\":\"white\",\"ticks\":\"\"},\"radialaxis\":{\"gridcolor\":\"white\",\"linecolor\":\"white\",\"ticks\":\"\"}},\"ternary\":{\"bgcolor\":\"#E5ECF6\",\"aaxis\":{\"gridcolor\":\"white\",\"linecolor\":\"white\",\"ticks\":\"\"},\"baxis\":{\"gridcolor\":\"white\",\"linecolor\":\"white\",\"ticks\":\"\"},\"caxis\":{\"gridcolor\":\"white\",\"linecolor\":\"white\",\"ticks\":\"\"}},\"coloraxis\":{\"colorbar\":{\"outlinewidth\":0,\"ticks\":\"\"}},\"colorscale\":{\"sequential\":[[0.0,\"#0d0887\"],[0.1111111111111111,\"#46039f\"],[0.2222222222222222,\"#7201a8\"],[0.3333333333333333,\"#9c179e\"],[0.4444444444444444,\"#bd3786\"],[0.5555555555555556,\"#d8576b\"],[0.6666666666666666,\"#ed7953\"],[0.7777777777777778,\"#fb9f3a\"],[0.8888888888888888,\"#fdca26\"],[1.0,\"#f0f921\"]],\"sequentialminus\":[[0.0,\"#0d0887\"],[0.1111111111111111,\"#46039f\"],[0.2222222222222222,\"#7201a8\"],[0.3333333333333333,\"#9c179e\"],[0.4444444444444444,\"#bd3786\"],[0.5555555555555556,\"#d8576b\"],[0.6666666666666666,\"#ed7953\"],[0.7777777777777778,\"#fb9f3a\"],[0.8888888888888888,\"#fdca26\"],[1.0,\"#f0f921\"]],\"diverging\":[[0,\"#8e0152\"],[0.1,\"#c51b7d\"],[0.2,\"#de77ae\"],[0.3,\"#f1b6da\"],[0.4,\"#fde0ef\"],[0.5,\"#f7f7f7\"],[0.6,\"#e6f5d0\"],[0.7,\"#b8e186\"],[0.8,\"#7fbc41\"],[0.9,\"#4d9221\"],[1,\"#276419\"]]},\"xaxis\":{\"gridcolor\":\"white\",\"linecolor\":\"white\",\"ticks\":\"\",\"title\":{\"standoff\":15},\"zerolinecolor\":\"white\",\"automargin\":true,\"zerolinewidth\":2},\"yaxis\":{\"gridcolor\":\"white\",\"linecolor\":\"white\",\"ticks\":\"\",\"title\":{\"standoff\":15},\"zerolinecolor\":\"white\",\"automargin\":true,\"zerolinewidth\":2},\"scene\":{\"xaxis\":{\"backgroundcolor\":\"#E5ECF6\",\"gridcolor\":\"white\",\"linecolor\":\"white\",\"showbackground\":true,\"ticks\":\"\",\"zerolinecolor\":\"white\",\"gridwidth\":2},\"yaxis\":{\"backgroundcolor\":\"#E5ECF6\",\"gridcolor\":\"white\",\"linecolor\":\"white\",\"showbackground\":true,\"ticks\":\"\",\"zerolinecolor\":\"white\",\"gridwidth\":2},\"zaxis\":{\"backgroundcolor\":\"#E5ECF6\",\"gridcolor\":\"white\",\"linecolor\":\"white\",\"showbackground\":true,\"ticks\":\"\",\"zerolinecolor\":\"white\",\"gridwidth\":2}},\"shapedefaults\":{\"line\":{\"color\":\"#2a3f5f\"}},\"annotationdefaults\":{\"arrowcolor\":\"#2a3f5f\",\"arrowhead\":0,\"arrowwidth\":1},\"geo\":{\"bgcolor\":\"white\",\"landcolor\":\"#E5ECF6\",\"subunitcolor\":\"white\",\"showland\":true,\"showlakes\":true,\"lakecolor\":\"white\"},\"title\":{\"x\":0.05},\"mapbox\":{\"style\":\"light\"}}}},                        {\"responsive\": true}                    ).then(function(){\n",
              "                            \n",
              "var gd = document.getElementById('fa60c602-a679-4120-854f-76214437d4b8');\n",
              "var x = new MutationObserver(function (mutations, observer) {{\n",
              "        var display = window.getComputedStyle(gd).display;\n",
              "        if (!display || display === 'none') {{\n",
              "            console.log([gd, 'removed!']);\n",
              "            Plotly.purge(gd);\n",
              "            observer.disconnect();\n",
              "        }}\n",
              "}});\n",
              "\n",
              "// Listen for the removal of the full notebook cells\n",
              "var notebookContainer = gd.closest('#notebook-container');\n",
              "if (notebookContainer) {{\n",
              "    x.observe(notebookContainer, {childList: true});\n",
              "}}\n",
              "\n",
              "// Listen for the clearing of the current output cell\n",
              "var outputEl = gd.closest('.output');\n",
              "if (outputEl) {{\n",
              "    x.observe(outputEl, {childList: true});\n",
              "}}\n",
              "\n",
              "                        })                };                            </script>        </div>\n",
              "</body>\n",
              "</html>"
            ]
          },
          "metadata": {}
        }
      ]
    },
    {
      "cell_type": "code",
      "source": [
        "y_true = 100 + 20 * np.random.randn(1000)\n",
        "y_pred = y_true + 10 * np.random.randn(1000)\n",
        "results = pd.DataFrame({'y_true': y_true, 'y_pred': y_pred})\n",
        "results['error'] = results['y_true'] - results['y_pred']\n",
        "\n",
        "px.histogram(results, x='error', nbins=50, width=800)"
      ],
      "metadata": {
        "colab": {
          "base_uri": "https://localhost:8080/",
          "height": 542
        },
        "id": "bT-H8A-1Kktz",
        "outputId": "81c08d9f-c17f-40cb-a674-9d9c4a53b057"
      },
      "execution_count": 68,
      "outputs": [
        {
          "output_type": "display_data",
          "data": {
            "text/html": [
              "<html>\n",
              "<head><meta charset=\"utf-8\" /></head>\n",
              "<body>\n",
              "    <div>            <script src=\"https://cdnjs.cloudflare.com/ajax/libs/mathjax/2.7.5/MathJax.js?config=TeX-AMS-MML_SVG\"></script><script type=\"text/javascript\">if (window.MathJax && window.MathJax.Hub && window.MathJax.Hub.Config) {window.MathJax.Hub.Config({SVG: {font: \"STIX-Web\"}});}</script>                <script type=\"text/javascript\">window.PlotlyConfig = {MathJaxConfig: 'local'};</script>\n",
              "        <script charset=\"utf-8\" src=\"https://cdn.plot.ly/plotly-2.35.2.min.js\"></script>                <div id=\"76931289-0d9e-4d23-b466-7de68547d1e5\" class=\"plotly-graph-div\" style=\"height:525px; width:800px;\"></div>            <script type=\"text/javascript\">                                    window.PLOTLYENV=window.PLOTLYENV || {};                                    if (document.getElementById(\"76931289-0d9e-4d23-b466-7de68547d1e5\")) {                    Plotly.newPlot(                        \"76931289-0d9e-4d23-b466-7de68547d1e5\",                        [{\"alignmentgroup\":\"True\",\"bingroup\":\"x\",\"hovertemplate\":\"error=%{x}\\u003cbr\\u003ecount=%{y}\\u003cextra\\u003e\\u003c\\u002fextra\\u003e\",\"legendgroup\":\"\",\"marker\":{\"color\":\"#636efa\",\"pattern\":{\"shape\":\"\"}},\"name\":\"\",\"nbinsx\":50,\"offsetgroup\":\"\",\"orientation\":\"v\",\"showlegend\":false,\"x\":[5.714137616962333,0.003153900118832098,-18.42504806587283,19.40498187306102,-2.5989847116870237,-8.613909309868163,-0.8601199663848007,9.303274727556698,5.804350080798244,-11.96503290460518,9.543037616736314,-13.201539570177644,-0.3051495049302275,17.02697330687785,3.263986959107413,7.74472259947332,-10.946147312526236,5.725124701406941,0.7513567398036116,-11.474790599552847,8.007215905392357,-3.1262629865091895,-4.948319388659158,-18.428065976194134,6.9478573594065125,12.600070152133185,-7.147783462809869,-2.833815130466647,12.447335196190082,18.921306556104085,1.1631547578882646,10.639082409145217,7.9065839609313855,15.124988074534116,14.265889643939872,-10.148891246851903,0.22024075190978465,-0.8363520174274441,-8.461425293293871,-0.3397725008291843,13.401455075154551,5.5668622325651285,11.13322553303729,-4.421696488881153,-22.129174785083904,3.3989563866282566,-16.829500742009017,8.087645948136355,12.006450512034334,2.596852376530549,0.36340624160460777,-4.092914592542996,1.1339078584132096,9.242530278810776,1.8655669654226301,-13.187096870098912,20.808940845225294,-21.44790905057569,16.8730394257214,8.08423994208242,10.826455256272425,0.6252385945460901,-9.421119100575822,-2.607850337492451,11.612220606355592,-13.870020684382737,-10.565368765966156,11.401682289712163,-20.548097347021447,-12.152477586812068,0.7755611344311433,-4.765334743816652,-14.560174210732583,-9.060202723715648,5.592200232132527,1.0837233355636897,5.560310207662454,-6.627850766368752,18.937427948356884,-0.8939169633592172,18.515911069376926,-1.2463551683972582,6.1082898058769075,1.4976625081375374,-2.458086541502638,-16.902691647868664,-16.701876521447943,-5.347737539021381,-1.159381206651389,5.357187447245437,12.328948161658133,-8.260635940127273,-25.2730560956157,3.942689249017917,21.13628020804714,-3.618275376987498,2.0393933178483366,16.28011912470835,11.078895991258548,-6.632207991559852,-12.927206492768775,10.298777723226237,1.6607564138345907,8.631358631006492,9.962657446382792,-3.3889114370627453,15.240788762507904,10.284006123823815,11.500567446915724,-3.2175954047401802,-16.826293350769916,3.739415286091031,23.12416664220784,-3.820678286351452,-4.787065101944279,9.044288186579493,22.347117940823452,-1.9524389945478475,11.635445906155624,0.5428993390000016,17.259828540688474,-1.6718219715528306,4.144485933592193,2.4876086421192554,4.942900357143031,-16.50730598647283,7.348491464927321,9.527747919447421,23.756084774101083,0.06844882767018134,9.102824275334882,5.421584008609273,-9.128772952916123,-0.16355575209833262,0.4361241821538897,-4.9950026409154304,-3.8124157281568785,4.207736694786647,3.628597127913366,-0.35539853180240755,-14.024992080603823,-1.3712722780106503,9.462653633252174,2.8381032598385616,-1.3432696601299199,4.731590176740767,16.24544539870442,2.2891280879106546,9.734480649633326,-0.25779289516310655,8.996376721661889,-3.109499642598152,19.59541388625084,23.44568037030288,-3.6097089237954805,-0.39279045673889357,7.250639300577603,5.805293874162345,12.34822418630236,3.1592529933577254,-12.204041852134537,-4.098303383303076,-23.78026107342177,-9.322240411596908,-1.6737405278410193,6.4898274343136535,14.238872355219442,-19.074726923229207,-3.888690811893042,-7.904997264884315,0.9025960563673863,14.591801331358369,-10.950014268471406,-6.028139401508554,-1.8986182764649584,19.643381125416965,1.201691043929543,12.02912961749793,9.959742769801387,4.041014878056487,0.458739985779161,16.27821924569497,-0.613347383927902,10.80604818024878,-10.962789008242055,25.118867348258732,-0.2468280485863943,18.85921364088145,-0.56765582205432,-1.2028492945877787,-12.573273666491943,9.488961547776526,6.379009504717402,-11.873771889590898,7.107719354730435,6.646482948156489,4.40986126376562,8.03291387374037,-24.124884566286525,-4.793976121743583,0.07102135748968408,20.79309027866887,2.984283549365955,3.8222676809701994,13.300278924810016,-7.86399677221263,-5.262125267967974,10.867383878563942,7.565205196679557,-2.0219742469077175,3.374415521208178,-2.4833220214039784,-21.21046753282934,-6.174228219314884,-4.871306629705671,0.7847321219498724,0.4249664796222845,12.32982188491789,-6.607455513148977,6.872248465010415,-3.996757889407718,19.34745395122917,12.236838946350929,-3.4904548602128784,-16.240376432084645,-1.936069314526648,-8.044876161460948,-7.690712636731675,7.301243469844934,-7.834824528791543,18.548878751223185,11.914805434949216,-20.034469831468414,3.524395140784847,9.893814318665534,-19.91016066300368,12.461766703585475,-2.5156181144026135,-8.29842740563339,10.921624051144278,-4.827686555146158,5.141240150048418,-5.627618227540182,-2.2959497138950837,15.519630412480197,9.707398604323714,-6.603864542212122,6.406626257867444,0.5021504816669022,14.025659610823624,-0.0827094341859862,-9.560587730036133,2.213439056595618,3.4021080063276514,12.139888255521726,13.81163486053758,-13.835756432456265,-3.6231508815253335,11.026009566281246,6.660698095428955,-5.480960157977634,12.180834101415691,-9.9313388876907,-15.988072055133117,2.0640787499023645,9.807783913910257,-13.159545375304731,8.059043009230422,13.91194795650891,-9.21294446383017,21.12527737632746,-0.7484773788213914,-16.53237060732988,-6.605071857445907,-1.2712859391179308,3.7668079926029208,-19.954248315057143,-3.797279979981454,-0.13522597165848538,-1.0961759638380784,1.5281083454359106,-1.5898690555067958,19.247790973490353,3.224839817554681,11.308535089329112,-10.130095482996836,22.813071240242493,10.717634514191289,-1.9123382391774584,20.972923133008138,3.2567404345317073,4.039237124966192,-1.1267112177063154,-6.364843494843214,-0.47268824484193317,-6.449545061299247,6.290437788348655,1.0662064959651332,-10.803009782710433,4.999661878719593,20.954528887677114,-6.489784311567149,-12.597940158003965,7.287378498103067,8.138648795673973,12.775447392916078,-5.614269397262888,-1.9175974546122205,-6.268039998716304,11.68965348687253,4.776116516993255,-0.30674844124395406,-14.114841064657668,11.26982623809812,2.1561137939357167,4.318886083080571,0.16846438677933406,0.8481728209008992,-2.357582876953302,-5.169548905861234,2.1410437232533184,1.6721138491776202,-15.428452381601161,-9.29752385307134,14.717415576146976,2.5736622876465276,-5.911081800707279,-11.524874783115905,-18.393705781528894,-9.273532789692368,-4.0293683384570045,-7.85029237458248,-1.310055699256793,-19.167265293291962,-6.2554663832947455,-18.156461789971075,-2.023245144736819,-8.21729977692219,-3.3275273602443605,-4.783756574921853,-13.732546875821868,11.505894888679165,-9.015398137365352,0.50240354510251,-3.331933233358299,-17.242531953513193,-9.200921807717648,9.448208253671567,4.24934127539791,5.308072529115947,2.622629686626226,-7.80820650965191,-0.3292291913656271,-2.500972681172911,-13.617306372081643,-9.980557133651075,11.471459934270868,-2.1031356500220113,12.732119958825379,6.6673222793345985,-5.079731174756773,3.6072970058787064,-1.4567426039237859,5.569028798605402,13.192783453317077,-0.8866048698264422,2.5632753599722236,-3.8797787158455037,5.643705339588195,-3.0374819056616076,-16.131865888234458,-7.917296326296537,-14.701832736872575,5.299122159785867,-10.468239149313078,-5.754733049698999,0.5142366305173738,11.844020380124704,-0.5344989859523679,-7.815659518934268,-9.44527928685848,9.339223391822998,2.7622499560012983,5.267852540430624,-7.7957505314252415,-11.534408375934674,-12.553597873495903,-6.92804512770158,0.32226851044964633,-10.042466400411925,-6.245368414747205,-15.237053372814458,-20.83795095734409,9.283347475472098,2.5456357596322476,-15.127430240038592,-11.93305530775477,3.1227926780376123,-3.207897091714088,-1.2673513586763505,-6.0529671447351205,-16.339287192539928,-2.95951097924069,-10.76681437963893,4.0687729336990515,2.063115613517553,9.710107845510677,-12.659657823872806,-6.53818201888015,-13.191516928084908,9.30923024440851,-2.0494030746795886,-16.838718024748673,2.9361674480973363,14.035741490564995,-1.9510789449115862,12.545652706170358,7.343791799766109,4.708761352741448,-2.391157856633882,7.356747258119974,-21.456604049447066,-10.172765147326984,-22.824214979855242,-12.324334989321088,-4.350103466356487,3.8407620815942494,-6.343950102327611,8.331588483929409,19.928319292846368,-13.307435370895206,5.634074057912741,4.211922308450497,12.910193770285147,4.218057827161843,0.02879096901827438,-9.085915224600072,-2.5898701112172517,9.134767867582468,0.5336021203742121,-3.454795695513752,8.271250893602584,-14.798948878459683,-7.5974034057950774,-10.838324298572246,-1.8588880413493172,7.586065733230427,6.69439584303511,11.94862011143563,4.815742266736777,15.630158435721775,-11.261891002979525,-4.175915794422352,-4.469048382808751,16.001772066066266,10.898948426179828,-7.196536606438258,8.709271593448179,-1.9231055665890864,-19.775656393796027,-6.238612438966214,7.71661610496335,-16.670573947900948,5.102177170801227,-21.966396981270407,7.392261692521842,27.570343503326754,-11.141322881628525,9.185785939447953,29.227752669473972,15.152263035623292,-8.472591500937114,10.795986497312128,-4.238151741664595,6.118185278533048,15.27105632181366,-2.6256714904116194,4.708255016422299,12.850851849899044,-10.145141404955005,-3.588660563269741,-1.8691073582277937,2.736342962281171,-11.085546897714323,4.091747334070462,-4.02973730247669,-0.9915484280892741,-2.437044605473858,-12.645324086037974,1.3965754913483437,16.571716991518258,8.839665470676962,-4.777436654789867,-3.5516045826239235,3.3778150951976613,1.4648840390475186,-1.8402474746649204,16.848052425994922,-17.78559501116247,17.75826704368555,2.7220802499061847,7.660356667425958,-1.56295621680475,17.72245989196479,12.023305869518609,-1.8283449345626792,2.56238876111901,1.2038631694023394,-0.31336603952452435,9.485569220382459,-9.654003753287128,-5.594428756882991,-2.418316484212113,6.3418943428003445,6.861277738238968,8.890064937693708,-6.7672419270011375,-7.579922917549652,-24.838935973649697,1.9083479286900342,3.7143629505054463,-3.2752706261353524,-1.6531138598045274,-10.343312552811383,1.5818474428468647,5.899822228975239,-0.5749082669145196,6.323836876051857,-18.556630734398126,-5.589702883958026,-4.8874079310646295,11.466963677132597,-2.313713208667224,12.202760626469114,-4.141340835891043,-8.658000978661548,-3.327023544651567,9.399838927328958,10.972862793327053,-14.739280067037527,8.857048850831688,-5.667376587830958,-23.477259229465176,-14.085654432963864,4.62590073816169,-6.296281041486651,4.584809334948048,-6.647176428131161,1.5379633777156982,5.452658477869619,-11.33598934498582,3.587372945273117,0.9024753817113833,1.3943802359481126,7.412822697942914,-15.257357236917116,29.705801280334953,-7.86751339364838,12.131088706851443,-14.736768316777884,-18.18810468967554,16.54413550606276,-1.1766915064301884,3.6036389400106543,10.937287946859797,-12.878712189212393,-6.394053506655894,-0.7243566284311669,-16.097275571850318,2.8263429927255146,2.052787217524198,2.919132602778717,-4.502686215067143,6.439395966203911,3.932771288983872,27.1092392048013,-4.855385635199411,-0.9549014960017104,4.176994630453237,16.88663266110167,-6.836858371844286,2.9479816041679783,11.646123591266772,-13.300833666744133,7.4907149964261635,0.4726665820031073,5.169308718602238,-2.3464735439070523,17.03596137778385,31.78802110752376,-0.6924961355937569,-4.040532722797451,4.969457358454164,1.1227279390824947,-0.6244134850370386,0.3125113775409716,5.1746304922533,2.476059463876709,10.239626771934567,5.662186742547107,0.2813596127222979,3.139458118549797,-0.08030544195152345,2.058834129227222,6.5435227798299564,-14.904010972034271,-2.835066962490245,17.47751218006195,-5.128570155942086,4.032609075846068,7.910174631017142,10.814116369846026,-13.580038741021042,-0.18390178880466124,3.712312483330919,-7.866717226717924,-3.3510367888466135,5.709407175923843,16.020246666741485,-3.3546980238580915,-27.378791510069178,-5.836362671928214,-0.8213460785010227,-4.018552964272956,5.0288766379738945,9.909821862993454,5.598591952852189,10.54538353946593,-1.2975030430417007,-14.877658682087144,12.859298386942562,-9.672198526511266,-7.569059187069797,-5.389318174195381,-7.000955363105888,1.2627931747403665,13.708382591006327,2.128523502442505,-1.6472995238669768,23.48943434407588,9.429313765735685,7.651740326984154,2.3885228105905583,2.6377618955075235,-11.598965797610873,2.2624254212871335,-8.162146952690563,-11.791921884624713,28.518672761978365,-11.373791314554012,20.150878057331667,2.500396336813651,-6.064217967273279,7.407791007447159,7.462814798666216,-22.323212317136267,4.622650638249766,-3.0097444674798908,10.06557566007605,3.25798259195588,5.375356277533584,-22.631298572507035,-4.625436370618999,4.4797753102099875,7.823940890164252,-6.761859275298917,-7.860948560886214,-3.2603972540430846,-6.466829157628851,-6.86744875944305,-3.538023279485529,4.670035435558475,13.221183317190437,3.406064750135414,-0.6622961715950595,14.175518634610086,5.34982036569339,-7.421823447859779,18.105595903082516,7.388585549572078,-13.265923294683176,20.425108839340353,-1.4241514242338695,-11.005804542602789,-2.0352802575465034,-13.831249296670592,4.379935921561966,-1.0692549957782376,-7.105788177472917,-3.824768666381061,-7.387068500869432,2.9756673544120673,0.18886163413944246,11.827465131506699,-15.685987043679546,-0.5792109822831577,-6.594171020236274,5.629989971243262,-3.7281603297558092,-14.212060590260847,14.732504225364323,2.156657749187005,-5.772714857281187,9.467764518586208,1.6596572397832432,-0.6543576459262681,10.755510120785999,-3.835319420858326,6.455177836922658,14.559678420782532,10.25166056626911,-8.432304939488745,-3.1771276174625456,6.292706617782542,4.311394248796603,-13.300373808032177,22.26681128654431,9.213718614667911,16.629546601032715,-5.138420989101945,-0.7920979753050261,-5.085048620025873,8.454841311209137,-14.32195826706456,-7.5551176439041114,-9.03359186592246,-8.678481510300898,2.534494232301185,3.3732394091026237,5.7546248564300555,2.090781061137818,2.30229923951471,-12.283248482106458,-27.829405950944164,-1.3745307226053285,-11.451409833666133,-5.071354584491786,-2.694040315649886,-12.960284127614813,10.061926886643064,-3.4502652900488755,23.97184112283773,-8.777408680251554,3.962244557764464,7.911705605766294,-6.690302354948159,18.094942674967015,3.127201481581835,-13.331052229922378,-17.5738360324398,-6.526588558299778,-6.23748085191329,5.370533155716757,6.699699479480188,-0.3552123905422775,4.21448366839202,1.1191933979147706,6.485430818419914,-16.931419965397183,-10.016845016008958,16.647784072508095,-15.42436618664614,-1.0161790270117166,-5.577121743187348,-14.409477909533607,-8.839827195472594,-0.896248238622178,1.7334978478628074,-12.284716969429795,7.994751875704324,-4.475356477464501,5.9815928772817415,14.407892720726863,18.0871743726765,1.4877205267735718,1.4295600180384156,3.8630392161154603,16.8215996218007,-10.344915754222768,-4.358614237506799,22.244095736604713,13.505099727790679,0.18534341834306645,1.4510911785396274,-7.754225696047172,7.6100411638333725,7.1354334764344856,-19.677872124280142,-13.984616121890099,-1.2282104975879804,8.432794798227718,-1.5386702161057855,2.756047654804746,15.792856151662761,-3.892177018065084,4.283338457087638,-1.5620535130810396,20.304338470725384,10.836442117357166,-2.580735520359312,-5.239916583871192,11.39749133432521,-5.0845049232924,10.302157585549836,9.45532531968739,-3.1482225197243565,2.374256225807102,-1.4592704880864886,1.9857903966053527,18.118338119821374,-4.640637785105838,12.045421916948953,-0.36785964117405,-3.825797375131785,-5.530627144732307,-10.092019098033617,15.009990272461309,-9.501531369870577,-4.179454723231274,-2.2041441757360616,13.400062761678427,14.502191652219636,11.195984653900268,21.61755115155067,-14.49675429068013,1.1716834535662883,-0.894346572449038,-25.120556613498408,8.75543929579247,-3.1193257939624175,3.6687440536226745,-13.855678971087684,3.7383641029990713,12.892251301316264,-14.824657757617885,-17.06077141591291,12.257376633612594,-4.1540262329239965,17.77993513606343,-10.840301118491055,0.6044999241086515,-17.035987932612187,4.217865880990303,-10.78688005018617,-17.487433989033008,-4.982695085235804,0.6047634857889221,-21.108909033910578,29.85827029793691,29.24747412387528,-10.48617950398625,10.84661578040324,-5.585756893405218,0.9880850623476221,-5.64728856066418,-7.883268410981714,15.161508838642263,-4.854496590581604,4.831546142096542,-0.7715641692953596,16.31741135689864,-0.5006006860173216,9.850824874407266,-8.773774342713907,22.978627746795993,4.527461233392813,6.6838237865427175,12.808826028108285,-12.736187725143054,-12.166440579226702,0.43289244398225435,7.244004198977066,-16.725753466972208,-8.623963619010055,2.648431594943048,-1.7938752223009828,14.361137924384892,-12.390008432012351,-13.663268517878464,7.920425475262277,-0.42733211732273446,-4.0687027586031235,-6.500883280301338,-3.6582102557680543,-17.555437819430495,-0.9912222647584343,6.072720416054466,-9.04535050694777,-0.6570379988108073,-0.9174236927268851,-8.288124928590861,-8.61563429305528,-2.086652238436713,6.432907225369178,11.475150983773617,9.94380548480271,-25.861347986939947,2.3362012606204843,-13.150936504294862,-22.78336233147472,-9.920704860589197,7.784726129365282,-17.57545940848911,-20.931759605726725,-6.738793873134782,-9.21448677878223,10.830289126278728,-4.236250160998239,-8.09872185486698,-0.24748672088284707,10.578654655638019,5.88804809546275,-23.313028325863172,-4.446229389900182,-7.166374023053265,2.2133685242902743,1.785999756673192,2.2273747174066756,-11.227004824892319,16.5909304158846,8.386959410602557,-14.627229523138027,16.793473327460404,1.8905347625058369,12.71036729153981,13.6284162956335,9.882427913721315,15.613073607707435,8.691939030981445,-10.044461548641436,8.063823592047314,-3.861076625958077,3.577400833266367,-18.43273451668007,4.41397484920364,-0.6172744098581973,12.136253968446525,-12.562957388654837,0.8908172641926768,7.0918976918075884,-16.478975934017072,4.795409205015261,-7.2597328509658325,-6.839190933009661,-2.151780133317672,6.8445081796524505,-10.208938461693407,-14.07860465340977,5.281910175218883,1.8406189325924487,-16.790567331696536,-22.92990814589956,14.611913351792609,-7.082255758846628,-17.45497685078277,1.3519811957285413,13.175514106947716,6.561499077781164,1.3407571172805604,-5.023199809582309,-4.2608778219453,-0.8740968884285394,-2.943913573482007,18.206161011909387,-23.13861447353112,4.5159374484404395,-3.6054699263184204,-6.662609253671647,-17.00016700200186,8.425935571355609,12.227480163464492,4.093449178735796,-2.0394328784242646,8.17745497352118,2.565519103698918,-13.00541495757156,18.387112653598322,2.8945215721193307,4.642199582871839,0.23949253168798634,-12.498310761320496,10.811256077045812,5.994111021080556,13.316420303256692,3.5535011071697795,6.923995975786653,7.740455654991294,5.559083221344608,-7.623676111652387,8.420089473102067,16.442191996864125,11.481217255906415,-2.20122179269147,-0.5336248945116608,-6.841350629449181,10.00150033455445,-13.637633826307933,-6.872705343565428,-7.616673697868222,-1.7373835561146507],\"xaxis\":\"x\",\"yaxis\":\"y\",\"type\":\"histogram\"}],                        {\"template\":{\"data\":{\"histogram2dcontour\":[{\"type\":\"histogram2dcontour\",\"colorbar\":{\"outlinewidth\":0,\"ticks\":\"\"},\"colorscale\":[[0.0,\"#0d0887\"],[0.1111111111111111,\"#46039f\"],[0.2222222222222222,\"#7201a8\"],[0.3333333333333333,\"#9c179e\"],[0.4444444444444444,\"#bd3786\"],[0.5555555555555556,\"#d8576b\"],[0.6666666666666666,\"#ed7953\"],[0.7777777777777778,\"#fb9f3a\"],[0.8888888888888888,\"#fdca26\"],[1.0,\"#f0f921\"]]}],\"choropleth\":[{\"type\":\"choropleth\",\"colorbar\":{\"outlinewidth\":0,\"ticks\":\"\"}}],\"histogram2d\":[{\"type\":\"histogram2d\",\"colorbar\":{\"outlinewidth\":0,\"ticks\":\"\"},\"colorscale\":[[0.0,\"#0d0887\"],[0.1111111111111111,\"#46039f\"],[0.2222222222222222,\"#7201a8\"],[0.3333333333333333,\"#9c179e\"],[0.4444444444444444,\"#bd3786\"],[0.5555555555555556,\"#d8576b\"],[0.6666666666666666,\"#ed7953\"],[0.7777777777777778,\"#fb9f3a\"],[0.8888888888888888,\"#fdca26\"],[1.0,\"#f0f921\"]]}],\"heatmap\":[{\"type\":\"heatmap\",\"colorbar\":{\"outlinewidth\":0,\"ticks\":\"\"},\"colorscale\":[[0.0,\"#0d0887\"],[0.1111111111111111,\"#46039f\"],[0.2222222222222222,\"#7201a8\"],[0.3333333333333333,\"#9c179e\"],[0.4444444444444444,\"#bd3786\"],[0.5555555555555556,\"#d8576b\"],[0.6666666666666666,\"#ed7953\"],[0.7777777777777778,\"#fb9f3a\"],[0.8888888888888888,\"#fdca26\"],[1.0,\"#f0f921\"]]}],\"heatmapgl\":[{\"type\":\"heatmapgl\",\"colorbar\":{\"outlinewidth\":0,\"ticks\":\"\"},\"colorscale\":[[0.0,\"#0d0887\"],[0.1111111111111111,\"#46039f\"],[0.2222222222222222,\"#7201a8\"],[0.3333333333333333,\"#9c179e\"],[0.4444444444444444,\"#bd3786\"],[0.5555555555555556,\"#d8576b\"],[0.6666666666666666,\"#ed7953\"],[0.7777777777777778,\"#fb9f3a\"],[0.8888888888888888,\"#fdca26\"],[1.0,\"#f0f921\"]]}],\"contourcarpet\":[{\"type\":\"contourcarpet\",\"colorbar\":{\"outlinewidth\":0,\"ticks\":\"\"}}],\"contour\":[{\"type\":\"contour\",\"colorbar\":{\"outlinewidth\":0,\"ticks\":\"\"},\"colorscale\":[[0.0,\"#0d0887\"],[0.1111111111111111,\"#46039f\"],[0.2222222222222222,\"#7201a8\"],[0.3333333333333333,\"#9c179e\"],[0.4444444444444444,\"#bd3786\"],[0.5555555555555556,\"#d8576b\"],[0.6666666666666666,\"#ed7953\"],[0.7777777777777778,\"#fb9f3a\"],[0.8888888888888888,\"#fdca26\"],[1.0,\"#f0f921\"]]}],\"surface\":[{\"type\":\"surface\",\"colorbar\":{\"outlinewidth\":0,\"ticks\":\"\"},\"colorscale\":[[0.0,\"#0d0887\"],[0.1111111111111111,\"#46039f\"],[0.2222222222222222,\"#7201a8\"],[0.3333333333333333,\"#9c179e\"],[0.4444444444444444,\"#bd3786\"],[0.5555555555555556,\"#d8576b\"],[0.6666666666666666,\"#ed7953\"],[0.7777777777777778,\"#fb9f3a\"],[0.8888888888888888,\"#fdca26\"],[1.0,\"#f0f921\"]]}],\"mesh3d\":[{\"type\":\"mesh3d\",\"colorbar\":{\"outlinewidth\":0,\"ticks\":\"\"}}],\"scatter\":[{\"fillpattern\":{\"fillmode\":\"overlay\",\"size\":10,\"solidity\":0.2},\"type\":\"scatter\"}],\"parcoords\":[{\"type\":\"parcoords\",\"line\":{\"colorbar\":{\"outlinewidth\":0,\"ticks\":\"\"}}}],\"scatterpolargl\":[{\"type\":\"scatterpolargl\",\"marker\":{\"colorbar\":{\"outlinewidth\":0,\"ticks\":\"\"}}}],\"bar\":[{\"error_x\":{\"color\":\"#2a3f5f\"},\"error_y\":{\"color\":\"#2a3f5f\"},\"marker\":{\"line\":{\"color\":\"#E5ECF6\",\"width\":0.5},\"pattern\":{\"fillmode\":\"overlay\",\"size\":10,\"solidity\":0.2}},\"type\":\"bar\"}],\"scattergeo\":[{\"type\":\"scattergeo\",\"marker\":{\"colorbar\":{\"outlinewidth\":0,\"ticks\":\"\"}}}],\"scatterpolar\":[{\"type\":\"scatterpolar\",\"marker\":{\"colorbar\":{\"outlinewidth\":0,\"ticks\":\"\"}}}],\"histogram\":[{\"marker\":{\"pattern\":{\"fillmode\":\"overlay\",\"size\":10,\"solidity\":0.2}},\"type\":\"histogram\"}],\"scattergl\":[{\"type\":\"scattergl\",\"marker\":{\"colorbar\":{\"outlinewidth\":0,\"ticks\":\"\"}}}],\"scatter3d\":[{\"type\":\"scatter3d\",\"line\":{\"colorbar\":{\"outlinewidth\":0,\"ticks\":\"\"}},\"marker\":{\"colorbar\":{\"outlinewidth\":0,\"ticks\":\"\"}}}],\"scattermapbox\":[{\"type\":\"scattermapbox\",\"marker\":{\"colorbar\":{\"outlinewidth\":0,\"ticks\":\"\"}}}],\"scatterternary\":[{\"type\":\"scatterternary\",\"marker\":{\"colorbar\":{\"outlinewidth\":0,\"ticks\":\"\"}}}],\"scattercarpet\":[{\"type\":\"scattercarpet\",\"marker\":{\"colorbar\":{\"outlinewidth\":0,\"ticks\":\"\"}}}],\"carpet\":[{\"aaxis\":{\"endlinecolor\":\"#2a3f5f\",\"gridcolor\":\"white\",\"linecolor\":\"white\",\"minorgridcolor\":\"white\",\"startlinecolor\":\"#2a3f5f\"},\"baxis\":{\"endlinecolor\":\"#2a3f5f\",\"gridcolor\":\"white\",\"linecolor\":\"white\",\"minorgridcolor\":\"white\",\"startlinecolor\":\"#2a3f5f\"},\"type\":\"carpet\"}],\"table\":[{\"cells\":{\"fill\":{\"color\":\"#EBF0F8\"},\"line\":{\"color\":\"white\"}},\"header\":{\"fill\":{\"color\":\"#C8D4E3\"},\"line\":{\"color\":\"white\"}},\"type\":\"table\"}],\"barpolar\":[{\"marker\":{\"line\":{\"color\":\"#E5ECF6\",\"width\":0.5},\"pattern\":{\"fillmode\":\"overlay\",\"size\":10,\"solidity\":0.2}},\"type\":\"barpolar\"}],\"pie\":[{\"automargin\":true,\"type\":\"pie\"}]},\"layout\":{\"autotypenumbers\":\"strict\",\"colorway\":[\"#636efa\",\"#EF553B\",\"#00cc96\",\"#ab63fa\",\"#FFA15A\",\"#19d3f3\",\"#FF6692\",\"#B6E880\",\"#FF97FF\",\"#FECB52\"],\"font\":{\"color\":\"#2a3f5f\"},\"hovermode\":\"closest\",\"hoverlabel\":{\"align\":\"left\"},\"paper_bgcolor\":\"white\",\"plot_bgcolor\":\"#E5ECF6\",\"polar\":{\"bgcolor\":\"#E5ECF6\",\"angularaxis\":{\"gridcolor\":\"white\",\"linecolor\":\"white\",\"ticks\":\"\"},\"radialaxis\":{\"gridcolor\":\"white\",\"linecolor\":\"white\",\"ticks\":\"\"}},\"ternary\":{\"bgcolor\":\"#E5ECF6\",\"aaxis\":{\"gridcolor\":\"white\",\"linecolor\":\"white\",\"ticks\":\"\"},\"baxis\":{\"gridcolor\":\"white\",\"linecolor\":\"white\",\"ticks\":\"\"},\"caxis\":{\"gridcolor\":\"white\",\"linecolor\":\"white\",\"ticks\":\"\"}},\"coloraxis\":{\"colorbar\":{\"outlinewidth\":0,\"ticks\":\"\"}},\"colorscale\":{\"sequential\":[[0.0,\"#0d0887\"],[0.1111111111111111,\"#46039f\"],[0.2222222222222222,\"#7201a8\"],[0.3333333333333333,\"#9c179e\"],[0.4444444444444444,\"#bd3786\"],[0.5555555555555556,\"#d8576b\"],[0.6666666666666666,\"#ed7953\"],[0.7777777777777778,\"#fb9f3a\"],[0.8888888888888888,\"#fdca26\"],[1.0,\"#f0f921\"]],\"sequentialminus\":[[0.0,\"#0d0887\"],[0.1111111111111111,\"#46039f\"],[0.2222222222222222,\"#7201a8\"],[0.3333333333333333,\"#9c179e\"],[0.4444444444444444,\"#bd3786\"],[0.5555555555555556,\"#d8576b\"],[0.6666666666666666,\"#ed7953\"],[0.7777777777777778,\"#fb9f3a\"],[0.8888888888888888,\"#fdca26\"],[1.0,\"#f0f921\"]],\"diverging\":[[0,\"#8e0152\"],[0.1,\"#c51b7d\"],[0.2,\"#de77ae\"],[0.3,\"#f1b6da\"],[0.4,\"#fde0ef\"],[0.5,\"#f7f7f7\"],[0.6,\"#e6f5d0\"],[0.7,\"#b8e186\"],[0.8,\"#7fbc41\"],[0.9,\"#4d9221\"],[1,\"#276419\"]]},\"xaxis\":{\"gridcolor\":\"white\",\"linecolor\":\"white\",\"ticks\":\"\",\"title\":{\"standoff\":15},\"zerolinecolor\":\"white\",\"automargin\":true,\"zerolinewidth\":2},\"yaxis\":{\"gridcolor\":\"white\",\"linecolor\":\"white\",\"ticks\":\"\",\"title\":{\"standoff\":15},\"zerolinecolor\":\"white\",\"automargin\":true,\"zerolinewidth\":2},\"scene\":{\"xaxis\":{\"backgroundcolor\":\"#E5ECF6\",\"gridcolor\":\"white\",\"linecolor\":\"white\",\"showbackground\":true,\"ticks\":\"\",\"zerolinecolor\":\"white\",\"gridwidth\":2},\"yaxis\":{\"backgroundcolor\":\"#E5ECF6\",\"gridcolor\":\"white\",\"linecolor\":\"white\",\"showbackground\":true,\"ticks\":\"\",\"zerolinecolor\":\"white\",\"gridwidth\":2},\"zaxis\":{\"backgroundcolor\":\"#E5ECF6\",\"gridcolor\":\"white\",\"linecolor\":\"white\",\"showbackground\":true,\"ticks\":\"\",\"zerolinecolor\":\"white\",\"gridwidth\":2}},\"shapedefaults\":{\"line\":{\"color\":\"#2a3f5f\"}},\"annotationdefaults\":{\"arrowcolor\":\"#2a3f5f\",\"arrowhead\":0,\"arrowwidth\":1},\"geo\":{\"bgcolor\":\"white\",\"landcolor\":\"#E5ECF6\",\"subunitcolor\":\"white\",\"showland\":true,\"showlakes\":true,\"lakecolor\":\"white\"},\"title\":{\"x\":0.05},\"mapbox\":{\"style\":\"light\"}}},\"xaxis\":{\"anchor\":\"y\",\"domain\":[0.0,1.0],\"title\":{\"text\":\"error\"}},\"yaxis\":{\"anchor\":\"x\",\"domain\":[0.0,1.0],\"title\":{\"text\":\"count\"}},\"legend\":{\"tracegroupgap\":0},\"margin\":{\"t\":60},\"barmode\":\"relative\",\"width\":800},                        {\"responsive\": true}                    ).then(function(){\n",
              "                            \n",
              "var gd = document.getElementById('76931289-0d9e-4d23-b466-7de68547d1e5');\n",
              "var x = new MutationObserver(function (mutations, observer) {{\n",
              "        var display = window.getComputedStyle(gd).display;\n",
              "        if (!display || display === 'none') {{\n",
              "            console.log([gd, 'removed!']);\n",
              "            Plotly.purge(gd);\n",
              "            observer.disconnect();\n",
              "        }}\n",
              "}});\n",
              "\n",
              "// Listen for the removal of the full notebook cells\n",
              "var notebookContainer = gd.closest('#notebook-container');\n",
              "if (notebookContainer) {{\n",
              "    x.observe(notebookContainer, {childList: true});\n",
              "}}\n",
              "\n",
              "// Listen for the clearing of the current output cell\n",
              "var outputEl = gd.closest('.output');\n",
              "if (outputEl) {{\n",
              "    x.observe(outputEl, {childList: true});\n",
              "}}\n",
              "\n",
              "                        })                };                            </script>        </div>\n",
              "</body>\n",
              "</html>"
            ]
          },
          "metadata": {}
        }
      ]
    },
    {
      "cell_type": "markdown",
      "source": [
        "### <a name='a3'></a> 2.2 Mean Absolute Error\n",
        "### $$MAE = \\frac{1}{n}\\sum_{i=1}^{N}|y_{true} - y_{pred}|$$"
      ],
      "metadata": {
        "id": "kyfoH7V6Pwyc"
      }
    },
    {
      "cell_type": "code",
      "source": [
        "def mean_absolute_error(y_true, y_pred):\n",
        "  return abs(y_true - y_pred).sum() / len(y_true)\n",
        "\n",
        "mean_absolute_error(y_true, y_pred)"
      ],
      "metadata": {
        "colab": {
          "base_uri": "https://localhost:8080/"
        },
        "id": "h_CiVZCTLkVE",
        "outputId": "d475c5e2-cc63-4696-e6df-dd21702fda90"
      },
      "execution_count": 69,
      "outputs": [
        {
          "output_type": "execute_result",
          "data": {
            "text/plain": [
              "np.float64(8.31332754219073)"
            ]
          },
          "metadata": {},
          "execution_count": 69
        }
      ]
    },
    {
      "cell_type": "code",
      "source": [
        "from sklearn.metrics import mean_absolute_error\n",
        "mean_absolute_error(y_true, y_pred)"
      ],
      "metadata": {
        "colab": {
          "base_uri": "https://localhost:8080/"
        },
        "id": "BIqhK5r4SNeT",
        "outputId": "de863318-d8c1-4b0f-85b2-1625b23ced55"
      },
      "execution_count": 70,
      "outputs": [
        {
          "output_type": "execute_result",
          "data": {
            "text/plain": [
              "8.31332754219073"
            ]
          },
          "metadata": {},
          "execution_count": 70
        }
      ]
    },
    {
      "cell_type": "markdown",
      "source": [
        "### <a name='a4'></a> 2.3 Mean Squared Error\n",
        "### $$MSE = \\frac{1}{n}\\sum_{i=1}^{N}(y_{true} - y_{pred})^{2}$$"
      ],
      "metadata": {
        "id": "m5Wby13SPw0p"
      }
    },
    {
      "cell_type": "code",
      "source": [
        "def mean_squared_error(y_true, y_pred):\n",
        "  return ((y_true - y_pred) **2).sum() / len(y_true)\n",
        "mean_squared_error(y_true, y_pred)"
      ],
      "metadata": {
        "colab": {
          "base_uri": "https://localhost:8080/"
        },
        "id": "paRWcIP7S5C9",
        "outputId": "1ceea4fe-97b7-4540-c65a-7ef6131451b0"
      },
      "execution_count": 71,
      "outputs": [
        {
          "output_type": "execute_result",
          "data": {
            "text/plain": [
              "np.float64(108.16105574599645)"
            ]
          },
          "metadata": {},
          "execution_count": 71
        }
      ]
    },
    {
      "cell_type": "code",
      "source": [
        "from sklearn.metrics import mean_squared_error\n",
        "mean_squared_error(y_true, y_pred)"
      ],
      "metadata": {
        "colab": {
          "base_uri": "https://localhost:8080/"
        },
        "id": "sqF2LLBeT7o-",
        "outputId": "db472d35-3acc-4cee-c30d-2e1e0bb0bb9c"
      },
      "execution_count": 72,
      "outputs": [
        {
          "output_type": "execute_result",
          "data": {
            "text/plain": [
              "108.16105574599645"
            ]
          },
          "metadata": {},
          "execution_count": 72
        }
      ]
    },
    {
      "cell_type": "markdown",
      "source": [
        "### <a name='a5'></a> 2.4 Root Mean Squared Error\n",
        "### $$RMSE = \\sqrt{MSE}$$"
      ],
      "metadata": {
        "id": "4H_F0YRmPw3k"
      }
    },
    {
      "cell_type": "code",
      "source": [
        "def root_mean_squared_error(y_true, y_pred):\n",
        "  return np.sqrt(((y_true - y_pred) **2).sum() / len(y_true))\n",
        "\n",
        "root_mean_squared_error(y_true, y_pred)"
      ],
      "metadata": {
        "colab": {
          "base_uri": "https://localhost:8080/"
        },
        "id": "wa7z6HbvUUyb",
        "outputId": "807f0ead-21a5-4cba-aba7-ac33696975b0"
      },
      "execution_count": 73,
      "outputs": [
        {
          "output_type": "execute_result",
          "data": {
            "text/plain": [
              "np.float64(10.400050756895201)"
            ]
          },
          "metadata": {},
          "execution_count": 73
        }
      ]
    },
    {
      "cell_type": "code",
      "source": [
        "np.sqrt(mean_squared_error(y_true, y_pred))"
      ],
      "metadata": {
        "colab": {
          "base_uri": "https://localhost:8080/"
        },
        "id": "xBFY-HRlUxlm",
        "outputId": "32bc7feb-b10c-46f8-9044-21333019263f"
      },
      "execution_count": 74,
      "outputs": [
        {
          "output_type": "execute_result",
          "data": {
            "text/plain": [
              "np.float64(10.400050756895201)"
            ]
          },
          "metadata": {},
          "execution_count": 74
        }
      ]
    },
    {
      "cell_type": "markdown",
      "source": [
        "### <a name='a6'></a> 2.5 Max Error"
      ],
      "metadata": {
        "id": "SBIC7G6ZPxD8"
      }
    },
    {
      "cell_type": "code",
      "source": [
        "def max_error(y_true, y_pred):\n",
        "  return abs(y_true - y_pred).max()"
      ],
      "metadata": {
        "id": "IfUee_ZrVLig"
      },
      "execution_count": 75,
      "outputs": []
    },
    {
      "cell_type": "code",
      "source": [
        "max_error(y_true, y_pred)"
      ],
      "metadata": {
        "colab": {
          "base_uri": "https://localhost:8080/"
        },
        "id": "T2HGBo9ZVXDl",
        "outputId": "bf3315ef-89cc-4052-fe9a-35caa36b7ce0"
      },
      "execution_count": 76,
      "outputs": [
        {
          "output_type": "execute_result",
          "data": {
            "text/plain": [
              "np.float64(31.78802110752376)"
            ]
          },
          "metadata": {},
          "execution_count": 76
        }
      ]
    },
    {
      "cell_type": "code",
      "source": [
        "from sklearn.metrics import max_error\n",
        "max_error(y_true, y_pred)"
      ],
      "metadata": {
        "colab": {
          "base_uri": "https://localhost:8080/"
        },
        "id": "zW43XVpPVcF2",
        "outputId": "78293ab6-f116-41ee-af68-47d707f2335e"
      },
      "execution_count": 77,
      "outputs": [
        {
          "output_type": "execute_result",
          "data": {
            "text/plain": [
              "np.float64(31.78802110752376)"
            ]
          },
          "metadata": {},
          "execution_count": 77
        }
      ]
    },
    {
      "cell_type": "markdown",
      "source": [
        "### <a name='a7'></a> 2.6 R2 score - współczynnik determinacji\n",
        "### $$R2\\_score = 1 - \\frac{\\sum_{i=1}^{N}(y_{true} - y_{pred})^{2}}{\\sum_{i=1}^{N}(y_{true} - \\overline{y_{true}})^{2}}$$"
      ],
      "metadata": {
        "id": "mw6rF4TkQBA4"
      }
    },
    {
      "cell_type": "code",
      "source": [
        "from sklearn.metrics import r2_score\n",
        "\n",
        "r2_score(y_true, y_pred)"
      ],
      "metadata": {
        "colab": {
          "base_uri": "https://localhost:8080/"
        },
        "id": "_qQriu8_VpsS",
        "outputId": "30332317-89dd-49aa-ea97-31360eb1f833"
      },
      "execution_count": 78,
      "outputs": [
        {
          "output_type": "execute_result",
          "data": {
            "text/plain": [
              "0.7359421241456381"
            ]
          },
          "metadata": {},
          "execution_count": 78
        }
      ]
    },
    {
      "cell_type": "code",
      "source": [
        "def r2_score(y_true, y_pred):\n",
        "    numerator = ((y_true - y_pred) ** 2).sum()\n",
        "    denominator = ((y_true - y_true.mean()) ** 2).sum()\n",
        "    try:\n",
        "        r2 = 1 - numerator / denominator\n",
        "    except ZeroDivisionError:\n",
        "        print('Dzielenie przez zero')\n",
        "    return r2"
      ],
      "metadata": {
        "id": "U2r2XNU6WBAt"
      },
      "execution_count": 79,
      "outputs": []
    },
    {
      "cell_type": "code",
      "source": [
        "r2_score(y_true, y_pred)"
      ],
      "metadata": {
        "colab": {
          "base_uri": "https://localhost:8080/"
        },
        "id": "cZ8fDxaOWpiW",
        "outputId": "47b7a383-da0d-4e74-e3eb-ed831138be81"
      },
      "execution_count": 80,
      "outputs": [
        {
          "output_type": "execute_result",
          "data": {
            "text/plain": [
              "np.float64(0.7359421241456381)"
            ]
          },
          "metadata": {},
          "execution_count": 80
        }
      ]
    }
  ]
}