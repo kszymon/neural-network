{
  "nbformat": 4,
  "nbformat_minor": 0,
  "metadata": {
    "colab": {
      "provenance": [],
      "authorship_tag": "ABX9TyMby1smUUnVIl315EKO1Syl",
      "include_colab_link": true
    },
    "kernelspec": {
      "name": "python3",
      "display_name": "Python 3"
    },
    "language_info": {
      "name": "python"
    }
  },
  "cells": [
    {
      "cell_type": "markdown",
      "metadata": {
        "id": "view-in-github",
        "colab_type": "text"
      },
      "source": [
        "<a href=\"https://colab.research.google.com/github/kszymon/neural-network/blob/main/02_basics%20/01_tensor.ipynb\" target=\"_parent\"><img src=\"https://colab.research.google.com/assets/colab-badge.svg\" alt=\"Open In Colab\"/></a>"
      ]
    },
    {
      "cell_type": "markdown",
      "source": [
        "### Spis treści\n",
        "1. [Import bibliotek](#a0)\n",
        "2. [Skalar](#a1)\n",
        "3. [Wektor](#a2)\n",
        "4. [Tablica ~ macierz](#a3)\n",
        "5. [Tensor](#a4)"
      ],
      "metadata": {
        "id": "Bq77nkTccX9Y"
      }
    },
    {
      "cell_type": "markdown",
      "source": [
        "### <a name='a0'></a> 1. Import bibliotek"
      ],
      "metadata": {
        "id": "YuCzN8Dbcbl5"
      }
    },
    {
      "cell_type": "code",
      "source": [
        "import numpy as np"
      ],
      "metadata": {
        "id": "zUjXzByEcckz"
      },
      "execution_count": null,
      "outputs": []
    },
    {
      "cell_type": "markdown",
      "source": [
        "### <a name='a1'> </a> 2. Skalar"
      ],
      "metadata": {
        "id": "-dUPJv7PcipD"
      }
    },
    {
      "cell_type": "code",
      "source": [
        "scalar = 3\n",
        "print(scalar)\n",
        "print(type(scalar))"
      ],
      "metadata": {
        "colab": {
          "base_uri": "https://localhost:8080/"
        },
        "id": "3znHcfEackoU",
        "outputId": "d1003f68-f255-4a92-8280-36f0214ff868"
      },
      "execution_count": null,
      "outputs": [
        {
          "output_type": "stream",
          "name": "stdout",
          "text": [
            "3\n",
            "<class 'int'>\n"
          ]
        }
      ]
    },
    {
      "cell_type": "code",
      "source": [
        "scalar = 3.0\n",
        "print(scalar)\n",
        "print(type(scalar))"
      ],
      "metadata": {
        "colab": {
          "base_uri": "https://localhost:8080/"
        },
        "id": "UqZWKz5CcwJf",
        "outputId": "04011e9f-7895-42d8-f0bb-24edda619a69"
      },
      "execution_count": null,
      "outputs": [
        {
          "output_type": "stream",
          "name": "stdout",
          "text": [
            "3.0\n",
            "<class 'float'>\n"
          ]
        }
      ]
    },
    {
      "cell_type": "markdown",
      "source": [
        "### <a name='a2'> </a> 3. Wektor"
      ],
      "metadata": {
        "id": "veqw2y_lc5p7"
      }
    },
    {
      "cell_type": "code",
      "source": [
        "vector = np.array([2, 4, -6 , 5])\n",
        "print(vector)\n",
        "print(type(vector))\n",
        "print(f'Rozmiar wektora: {vector.shape}')\n",
        "print(f'Typ danych wektora: {vector.dtype}')\n",
        "print(f'Rząd: {vector.ndim}')\n",
        "print(f'Długość: {len(vector)}')"
      ],
      "metadata": {
        "colab": {
          "base_uri": "https://localhost:8080/"
        },
        "id": "hlGUxTUTc8gV",
        "outputId": "1a84b9d1-6ff8-4b35-8e08-0c840987fcde"
      },
      "execution_count": null,
      "outputs": [
        {
          "output_type": "stream",
          "name": "stdout",
          "text": [
            "[ 2  4 -6  5]\n",
            "<class 'numpy.ndarray'>\n",
            "Rozmiar wektora: (4,)\n",
            "Typ danych wektora: int64\n",
            "Rząd: 1\n",
            "Długość: 4\n"
          ]
        }
      ]
    },
    {
      "cell_type": "code",
      "source": [
        "vector = np.array([2, 4, -6, 5], dtype='float')\n",
        "print(vector)\n",
        "print(f'Typ danych wektora: {vector.dtype}')"
      ],
      "metadata": {
        "colab": {
          "base_uri": "https://localhost:8080/"
        },
        "id": "OrqjtHz1eVi4",
        "outputId": "bceb5605-c192-453b-9be4-6d5878531d26"
      },
      "execution_count": null,
      "outputs": [
        {
          "output_type": "stream",
          "name": "stdout",
          "text": [
            "[ 2.  4. -6.  5.]\n",
            "Typ danych wektora: float64\n"
          ]
        }
      ]
    },
    {
      "cell_type": "markdown",
      "source": [
        "### <a name='a3'> </a> 4.Tablica ~ Macierz"
      ],
      "metadata": {
        "id": "9pIcUxyUd7nd"
      }
    },
    {
      "cell_type": "code",
      "source": [
        "array = np.array([[2, 6, 3],\n",
        "                  [5, -3, 4]])\n",
        "print(array)\n",
        "print(type(array))\n",
        "print(f'Rozmiar macierzy: {array.shape}')\n",
        "print(f'Typ danych macierzy: {array.dtype}')\n",
        "print(f'Rząd: {array.ndim}')\n",
        "print(f'Długosc: {len(array)}')"
      ],
      "metadata": {
        "colab": {
          "base_uri": "https://localhost:8080/"
        },
        "id": "GpmGsWjsen-H",
        "outputId": "b9427092-9180-4d01-cd59-5528646983e7"
      },
      "execution_count": null,
      "outputs": [
        {
          "output_type": "stream",
          "name": "stdout",
          "text": [
            "[[ 2  6  3]\n",
            " [ 5 -3  4]]\n",
            "<class 'numpy.ndarray'>\n",
            "Rozmiar macierzy: (2, 3)\n",
            "Typ danych macierzy: int64\n",
            "Rząd: 2\n",
            "Długosc: 2\n"
          ]
        }
      ]
    },
    {
      "cell_type": "code",
      "source": [
        "array = np.array([[2, 6, 3],\n",
        "                 [5, 3, 4],\n",
        "                 [4, 2, 1]], dtype='float')\n",
        "print(array)\n",
        "print(f'Rozmiar macierzy: {array.shape}')\n",
        "print(f'Typ danych macierzy: {array.dtype}')\n",
        "print(f'Rząd: {array.ndim}')\n",
        "print(f'Długość {len(array)}')"
      ],
      "metadata": {
        "colab": {
          "base_uri": "https://localhost:8080/"
        },
        "id": "rNIoP8fJfUb3",
        "outputId": "6e17b50d-1721-4c2c-9d03-396e60583364"
      },
      "execution_count": null,
      "outputs": [
        {
          "output_type": "stream",
          "name": "stdout",
          "text": [
            "[[2. 6. 3.]\n",
            " [5. 3. 4.]\n",
            " [4. 2. 1.]]\n",
            "Rozmiar macierzy: (3, 3)\n",
            "Typ danych macierzy: float64\n",
            "Rząd: 2\n",
            "Długość 3\n"
          ]
        }
      ]
    },
    {
      "cell_type": "markdown",
      "source": [
        "### <a name='a4'> </a> 5. Tensor"
      ],
      "metadata": {
        "id": "fICiZxICd4QI"
      }
    },
    {
      "cell_type": "code",
      "source": [
        "tensor = np.array([\n",
        "                  [[1, 2, 3],\n",
        "                   [4, 5, 6]],\n",
        "                   [[7, 8, 9],\n",
        "                    [3, 7, 3]]\n",
        "])\n",
        "\n",
        "print(tensor)\n",
        "print(type(tensor))\n",
        "print(f'Rozmiar macierzy: {tensor.shape}')\n",
        "print(f'Typ danych macierzy: {tensor.dtype}')\n",
        "print(f'Rząd: {tensor.ndim}')\n",
        "print(f'Długość: {len(tensor)}')"
      ],
      "metadata": {
        "colab": {
          "base_uri": "https://localhost:8080/"
        },
        "id": "fC749RZNbjz6",
        "outputId": "b2bc0a46-e4d7-4a44-aa92-cad6bfcfc93b"
      },
      "execution_count": null,
      "outputs": [
        {
          "output_type": "stream",
          "name": "stdout",
          "text": [
            "[[[1 2 3]\n",
            "  [4 5 6]]\n",
            "\n",
            " [[7 8 9]\n",
            "  [3 7 3]]]\n",
            "<class 'numpy.ndarray'>\n",
            "Rozmiar macierzy: (2, 2, 3)\n",
            "Typ danych macierzy: int64\n",
            "Rząd: 3\n",
            "Długość: 2\n"
          ]
        }
      ]
    },
    {
      "cell_type": "code",
      "source": [
        "tensor = np.array([\n",
        "                  [[1, 2, 3],\n",
        "                   [4, 5, 6]],\n",
        "                  [[7 ,8 , 9 ],\n",
        "                   [3, 7, 3]],\n",
        "                  [[2, 3, 5],\n",
        "                   [7, 2, 5]]\n",
        "])\n",
        "\n",
        "print(tensor)\n",
        "print(type(tensor))\n",
        "print(f'Rozmiar macierzy: {tensor.shape}')\n",
        "print(f'Typ danych macierzy: {tensor.dtype}')\n",
        "print(f'Rząd: {tensor.ndim}')\n",
        "print(f'Długość: {len(tensor)}')"
      ],
      "metadata": {
        "id": "nTCeNyHIchh7",
        "colab": {
          "base_uri": "https://localhost:8080/"
        },
        "outputId": "2c619fb2-409b-4af6-ba73-200f4a49c710"
      },
      "execution_count": 18,
      "outputs": [
        {
          "output_type": "stream",
          "name": "stdout",
          "text": [
            "[[[1 2 3]\n",
            "  [4 5 6]]\n",
            "\n",
            " [[7 8 9]\n",
            "  [3 7 3]]\n",
            "\n",
            " [[2 3 5]\n",
            "  [7 2 5]]]\n",
            "<class 'numpy.ndarray'>\n",
            "Rozmiar macierzy: (3, 2, 3)\n",
            "Typ danych macierzy: int64\n",
            "Rząd: 3\n",
            "Długość: 3\n"
          ]
        }
      ]
    },
    {
      "cell_type": "code",
      "source": [
        "tensor = np.array([\n",
        "    [[1, 2, 3, 4],\n",
        "     [4, 5, 6, 4],\n",
        "     [4, 2, 5, 2]],\n",
        "    [[7, 8, 9, 8],\n",
        "     [3, 7, 3, 9],\n",
        "     [5, 2, 4, 3]],\n",
        "    [[2, 3, 5, 4],\n",
        "     [7, 2, 5, 1],\n",
        "     [8, 2, 7, 2]],\n",
        "    [[2, 3, 5, 7],\n",
        "     [7, 2, 5, 9],\n",
        "     [8, 2, 7, 0]],\n",
        "    [[2, 3, 5, 7],\n",
        "     [7, 2, 5, 9],\n",
        "     [8, 2, 7, 0]]\n",
        "])\n",
        "\n",
        "print(tensor)\n",
        "print(type(tensor))\n",
        "print(f'Rozmiar macierzy: {tensor.shape}')\n",
        "print(f'Typ danych macierzy: {tensor.dtype}')\n",
        "print(f'Rząd: {tensor.ndim}')\n",
        "print(f'Długosc: {len(tensor)}')"
      ],
      "metadata": {
        "colab": {
          "base_uri": "https://localhost:8080/"
        },
        "id": "EyxLwhvihOU9",
        "outputId": "18e57238-285e-48f5-8c23-6c0f15f6d590"
      },
      "execution_count": 19,
      "outputs": [
        {
          "output_type": "stream",
          "name": "stdout",
          "text": [
            "[[[1 2 3 4]\n",
            "  [4 5 6 4]\n",
            "  [4 2 5 2]]\n",
            "\n",
            " [[7 8 9 8]\n",
            "  [3 7 3 9]\n",
            "  [5 2 4 3]]\n",
            "\n",
            " [[2 3 5 4]\n",
            "  [7 2 5 1]\n",
            "  [8 2 7 2]]\n",
            "\n",
            " [[2 3 5 7]\n",
            "  [7 2 5 9]\n",
            "  [8 2 7 0]]\n",
            "\n",
            " [[2 3 5 7]\n",
            "  [7 2 5 9]\n",
            "  [8 2 7 0]]]\n",
            "<class 'numpy.ndarray'>\n",
            "Rozmiar macierzy: (5, 3, 4)\n",
            "Typ danych macierzy: int64\n",
            "Rząd: 3\n",
            "Długosc: 5\n"
          ]
        }
      ]
    },
    {
      "cell_type": "code",
      "source": [
        "tensor"
      ],
      "metadata": {
        "colab": {
          "base_uri": "https://localhost:8080/"
        },
        "id": "6UyieKfCh9Xr",
        "outputId": "b9194179-a478-4e09-b05f-8fdb9614e25e"
      },
      "execution_count": 20,
      "outputs": [
        {
          "output_type": "execute_result",
          "data": {
            "text/plain": [
              "array([[[1, 2, 3, 4],\n",
              "        [4, 5, 6, 4],\n",
              "        [4, 2, 5, 2]],\n",
              "\n",
              "       [[7, 8, 9, 8],\n",
              "        [3, 7, 3, 9],\n",
              "        [5, 2, 4, 3]],\n",
              "\n",
              "       [[2, 3, 5, 4],\n",
              "        [7, 2, 5, 1],\n",
              "        [8, 2, 7, 2]],\n",
              "\n",
              "       [[2, 3, 5, 7],\n",
              "        [7, 2, 5, 9],\n",
              "        [8, 2, 7, 0]],\n",
              "\n",
              "       [[2, 3, 5, 7],\n",
              "        [7, 2, 5, 9],\n",
              "        [8, 2, 7, 0]]])"
            ]
          },
          "metadata": {},
          "execution_count": 20
        }
      ]
    },
    {
      "cell_type": "code",
      "source": [
        "tensor[0]"
      ],
      "metadata": {
        "colab": {
          "base_uri": "https://localhost:8080/"
        },
        "id": "nbmFafCLiAgI",
        "outputId": "29a489a0-42c1-4f18-ab65-3425a7e883bd"
      },
      "execution_count": 21,
      "outputs": [
        {
          "output_type": "execute_result",
          "data": {
            "text/plain": [
              "array([[1, 2, 3, 4],\n",
              "       [4, 5, 6, 4],\n",
              "       [4, 2, 5, 2]])"
            ]
          },
          "metadata": {},
          "execution_count": 21
        }
      ]
    },
    {
      "cell_type": "code",
      "source": [
        "tensor[0:2]"
      ],
      "metadata": {
        "colab": {
          "base_uri": "https://localhost:8080/"
        },
        "id": "AsmBzuA1iBxA",
        "outputId": "d9018945-91e0-4b28-b06f-0e3d711576db"
      },
      "execution_count": 22,
      "outputs": [
        {
          "output_type": "execute_result",
          "data": {
            "text/plain": [
              "array([[[1, 2, 3, 4],\n",
              "        [4, 5, 6, 4],\n",
              "        [4, 2, 5, 2]],\n",
              "\n",
              "       [[7, 8, 9, 8],\n",
              "        [3, 7, 3, 9],\n",
              "        [5, 2, 4, 3]]])"
            ]
          },
          "metadata": {},
          "execution_count": 22
        }
      ]
    }
  ]
}